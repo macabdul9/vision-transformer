{
  "nbformat": 4,
  "nbformat_minor": 0,
  "metadata": {
    "kernelspec": {
      "name": "python3",
      "display_name": "Python 3"
    },
    "colab": {
      "name": "ViT.ipynb",
      "provenance": [],
      "toc_visible": true
    },
    "accelerator": "GPU",
    "widgets": {
      "application/vnd.jupyter.widget-state+json": {
        "d63450a6d5aa4a4aa62ecc004946a8de": {
          "model_module": "@jupyter-widgets/controls",
          "model_name": "VBoxModel",
          "state": {
            "_view_name": "VBoxView",
            "_dom_classes": [],
            "_model_name": "VBoxModel",
            "_view_module": "@jupyter-widgets/controls",
            "_model_module_version": "1.5.0",
            "_view_count": null,
            "_view_module_version": "1.5.0",
            "box_style": "",
            "layout": "IPY_MODEL_1c8e762f57514f34b088185e67dbee9d",
            "_model_module": "@jupyter-widgets/controls",
            "children": [
              "IPY_MODEL_c85bac48d7d846c099b43f066fff7a4a",
              "IPY_MODEL_2435aa5b4bac4d48a792833209d42d59"
            ]
          }
        },
        "1c8e762f57514f34b088185e67dbee9d": {
          "model_module": "@jupyter-widgets/base",
          "model_name": "LayoutModel",
          "state": {
            "_view_name": "LayoutView",
            "grid_template_rows": null,
            "right": null,
            "justify_content": null,
            "_view_module": "@jupyter-widgets/base",
            "overflow": null,
            "_model_module_version": "1.2.0",
            "_view_count": null,
            "flex_flow": null,
            "width": null,
            "min_width": null,
            "border": null,
            "align_items": null,
            "bottom": null,
            "_model_module": "@jupyter-widgets/base",
            "top": null,
            "grid_column": null,
            "overflow_y": null,
            "overflow_x": null,
            "grid_auto_flow": null,
            "grid_area": null,
            "grid_template_columns": null,
            "flex": null,
            "_model_name": "LayoutModel",
            "justify_items": null,
            "grid_row": null,
            "max_height": null,
            "align_content": null,
            "visibility": null,
            "align_self": null,
            "height": null,
            "min_height": null,
            "padding": null,
            "grid_auto_rows": null,
            "grid_gap": null,
            "max_width": null,
            "order": null,
            "_view_module_version": "1.2.0",
            "grid_template_areas": null,
            "object_position": null,
            "object_fit": null,
            "grid_auto_columns": null,
            "margin": null,
            "display": null,
            "left": null
          }
        },
        "c85bac48d7d846c099b43f066fff7a4a": {
          "model_module": "@jupyter-widgets/controls",
          "model_name": "LabelModel",
          "state": {
            "_view_name": "LabelView",
            "style": "IPY_MODEL_487429adbfd54b17811e4dda03a88398",
            "_dom_classes": [],
            "description": "",
            "_model_name": "LabelModel",
            "placeholder": "​",
            "_view_module": "@jupyter-widgets/controls",
            "_model_module_version": "1.5.0",
            "value": " 0.01MB of 0.01MB uploaded (0.00MB deduped)\r",
            "_view_count": null,
            "_view_module_version": "1.5.0",
            "description_tooltip": null,
            "_model_module": "@jupyter-widgets/controls",
            "layout": "IPY_MODEL_23a4f6ab710c4a1aab1742f04ee72f56"
          }
        },
        "2435aa5b4bac4d48a792833209d42d59": {
          "model_module": "@jupyter-widgets/controls",
          "model_name": "FloatProgressModel",
          "state": {
            "_view_name": "ProgressView",
            "style": "IPY_MODEL_3bd39464b9fd43b8b2a217bca18b47ca",
            "_dom_classes": [],
            "description": "",
            "_model_name": "FloatProgressModel",
            "bar_style": "",
            "max": 1,
            "_view_module": "@jupyter-widgets/controls",
            "_model_module_version": "1.5.0",
            "value": 1,
            "_view_count": null,
            "_view_module_version": "1.5.0",
            "orientation": "horizontal",
            "min": 0,
            "description_tooltip": null,
            "_model_module": "@jupyter-widgets/controls",
            "layout": "IPY_MODEL_6ff0b72d7c9d41acb40790f49c98298a"
          }
        },
        "487429adbfd54b17811e4dda03a88398": {
          "model_module": "@jupyter-widgets/controls",
          "model_name": "DescriptionStyleModel",
          "state": {
            "_view_name": "StyleView",
            "_model_name": "DescriptionStyleModel",
            "description_width": "",
            "_view_module": "@jupyter-widgets/base",
            "_model_module_version": "1.5.0",
            "_view_count": null,
            "_view_module_version": "1.2.0",
            "_model_module": "@jupyter-widgets/controls"
          }
        },
        "23a4f6ab710c4a1aab1742f04ee72f56": {
          "model_module": "@jupyter-widgets/base",
          "model_name": "LayoutModel",
          "state": {
            "_view_name": "LayoutView",
            "grid_template_rows": null,
            "right": null,
            "justify_content": null,
            "_view_module": "@jupyter-widgets/base",
            "overflow": null,
            "_model_module_version": "1.2.0",
            "_view_count": null,
            "flex_flow": null,
            "width": null,
            "min_width": null,
            "border": null,
            "align_items": null,
            "bottom": null,
            "_model_module": "@jupyter-widgets/base",
            "top": null,
            "grid_column": null,
            "overflow_y": null,
            "overflow_x": null,
            "grid_auto_flow": null,
            "grid_area": null,
            "grid_template_columns": null,
            "flex": null,
            "_model_name": "LayoutModel",
            "justify_items": null,
            "grid_row": null,
            "max_height": null,
            "align_content": null,
            "visibility": null,
            "align_self": null,
            "height": null,
            "min_height": null,
            "padding": null,
            "grid_auto_rows": null,
            "grid_gap": null,
            "max_width": null,
            "order": null,
            "_view_module_version": "1.2.0",
            "grid_template_areas": null,
            "object_position": null,
            "object_fit": null,
            "grid_auto_columns": null,
            "margin": null,
            "display": null,
            "left": null
          }
        },
        "3bd39464b9fd43b8b2a217bca18b47ca": {
          "model_module": "@jupyter-widgets/controls",
          "model_name": "ProgressStyleModel",
          "state": {
            "_view_name": "StyleView",
            "_model_name": "ProgressStyleModel",
            "description_width": "",
            "_view_module": "@jupyter-widgets/base",
            "_model_module_version": "1.5.0",
            "_view_count": null,
            "_view_module_version": "1.2.0",
            "bar_color": null,
            "_model_module": "@jupyter-widgets/controls"
          }
        },
        "6ff0b72d7c9d41acb40790f49c98298a": {
          "model_module": "@jupyter-widgets/base",
          "model_name": "LayoutModel",
          "state": {
            "_view_name": "LayoutView",
            "grid_template_rows": null,
            "right": null,
            "justify_content": null,
            "_view_module": "@jupyter-widgets/base",
            "overflow": null,
            "_model_module_version": "1.2.0",
            "_view_count": null,
            "flex_flow": null,
            "width": null,
            "min_width": null,
            "border": null,
            "align_items": null,
            "bottom": null,
            "_model_module": "@jupyter-widgets/base",
            "top": null,
            "grid_column": null,
            "overflow_y": null,
            "overflow_x": null,
            "grid_auto_flow": null,
            "grid_area": null,
            "grid_template_columns": null,
            "flex": null,
            "_model_name": "LayoutModel",
            "justify_items": null,
            "grid_row": null,
            "max_height": null,
            "align_content": null,
            "visibility": null,
            "align_self": null,
            "height": null,
            "min_height": null,
            "padding": null,
            "grid_auto_rows": null,
            "grid_gap": null,
            "max_width": null,
            "order": null,
            "_view_module_version": "1.2.0",
            "grid_template_areas": null,
            "object_position": null,
            "object_fit": null,
            "grid_auto_columns": null,
            "margin": null,
            "display": null,
            "left": null
          }
        },
        "b1690ceb2dae4e378a2adc744fc4b9e9": {
          "model_module": "@jupyter-widgets/controls",
          "model_name": "HBoxModel",
          "state": {
            "_view_name": "HBoxView",
            "_dom_classes": [],
            "_model_name": "HBoxModel",
            "_view_module": "@jupyter-widgets/controls",
            "_model_module_version": "1.5.0",
            "_view_count": null,
            "_view_module_version": "1.5.0",
            "box_style": "",
            "layout": "IPY_MODEL_6f61daae70114c0886c5f46e662129ed",
            "_model_module": "@jupyter-widgets/controls",
            "children": [
              "IPY_MODEL_62992d08983546e5a6e65cddeab559d6",
              "IPY_MODEL_0ee60e2a225a40b2bcc4ce70ca101b65"
            ]
          }
        },
        "6f61daae70114c0886c5f46e662129ed": {
          "model_module": "@jupyter-widgets/base",
          "model_name": "LayoutModel",
          "state": {
            "_view_name": "LayoutView",
            "grid_template_rows": null,
            "right": null,
            "justify_content": null,
            "_view_module": "@jupyter-widgets/base",
            "overflow": null,
            "_model_module_version": "1.2.0",
            "_view_count": null,
            "flex_flow": "row wrap",
            "width": "100%",
            "min_width": null,
            "border": null,
            "align_items": null,
            "bottom": null,
            "_model_module": "@jupyter-widgets/base",
            "top": null,
            "grid_column": null,
            "overflow_y": null,
            "overflow_x": null,
            "grid_auto_flow": null,
            "grid_area": null,
            "grid_template_columns": null,
            "flex": null,
            "_model_name": "LayoutModel",
            "justify_items": null,
            "grid_row": null,
            "max_height": null,
            "align_content": null,
            "visibility": null,
            "align_self": null,
            "height": null,
            "min_height": null,
            "padding": null,
            "grid_auto_rows": null,
            "grid_gap": null,
            "max_width": null,
            "order": null,
            "_view_module_version": "1.2.0",
            "grid_template_areas": null,
            "object_position": null,
            "object_fit": null,
            "grid_auto_columns": null,
            "margin": null,
            "display": "inline-flex",
            "left": null
          }
        },
        "62992d08983546e5a6e65cddeab559d6": {
          "model_module": "@jupyter-widgets/controls",
          "model_name": "FloatProgressModel",
          "state": {
            "_view_name": "ProgressView",
            "style": "IPY_MODEL_b79b5425da8840269beb343365d418f2",
            "_dom_classes": [],
            "description": "Validation sanity check: 100%",
            "_model_name": "FloatProgressModel",
            "bar_style": "info",
            "max": 1,
            "_view_module": "@jupyter-widgets/controls",
            "_model_module_version": "1.5.0",
            "value": 1,
            "_view_count": null,
            "_view_module_version": "1.5.0",
            "orientation": "horizontal",
            "min": 0,
            "description_tooltip": null,
            "_model_module": "@jupyter-widgets/controls",
            "layout": "IPY_MODEL_814acd423ed14537b26e36dae5cf5e6e"
          }
        },
        "0ee60e2a225a40b2bcc4ce70ca101b65": {
          "model_module": "@jupyter-widgets/controls",
          "model_name": "HTMLModel",
          "state": {
            "_view_name": "HTMLView",
            "style": "IPY_MODEL_514c81f7e1d84cabb3cd05a54f16e5e0",
            "_dom_classes": [],
            "description": "",
            "_model_name": "HTMLModel",
            "placeholder": "​",
            "_view_module": "@jupyter-widgets/controls",
            "_model_module_version": "1.5.0",
            "value": " 2/2 [00:02&lt;00:00,  1.52s/it]",
            "_view_count": null,
            "_view_module_version": "1.5.0",
            "description_tooltip": null,
            "_model_module": "@jupyter-widgets/controls",
            "layout": "IPY_MODEL_26244fa1e6e64d10ab1e4a2437da7631"
          }
        },
        "b79b5425da8840269beb343365d418f2": {
          "model_module": "@jupyter-widgets/controls",
          "model_name": "ProgressStyleModel",
          "state": {
            "_view_name": "StyleView",
            "_model_name": "ProgressStyleModel",
            "description_width": "initial",
            "_view_module": "@jupyter-widgets/base",
            "_model_module_version": "1.5.0",
            "_view_count": null,
            "_view_module_version": "1.2.0",
            "bar_color": null,
            "_model_module": "@jupyter-widgets/controls"
          }
        },
        "814acd423ed14537b26e36dae5cf5e6e": {
          "model_module": "@jupyter-widgets/base",
          "model_name": "LayoutModel",
          "state": {
            "_view_name": "LayoutView",
            "grid_template_rows": null,
            "right": null,
            "justify_content": null,
            "_view_module": "@jupyter-widgets/base",
            "overflow": null,
            "_model_module_version": "1.2.0",
            "_view_count": null,
            "flex_flow": null,
            "width": null,
            "min_width": null,
            "border": null,
            "align_items": null,
            "bottom": null,
            "_model_module": "@jupyter-widgets/base",
            "top": null,
            "grid_column": null,
            "overflow_y": null,
            "overflow_x": null,
            "grid_auto_flow": null,
            "grid_area": null,
            "grid_template_columns": null,
            "flex": "2",
            "_model_name": "LayoutModel",
            "justify_items": null,
            "grid_row": null,
            "max_height": null,
            "align_content": null,
            "visibility": null,
            "align_self": null,
            "height": null,
            "min_height": null,
            "padding": null,
            "grid_auto_rows": null,
            "grid_gap": null,
            "max_width": null,
            "order": null,
            "_view_module_version": "1.2.0",
            "grid_template_areas": null,
            "object_position": null,
            "object_fit": null,
            "grid_auto_columns": null,
            "margin": null,
            "display": null,
            "left": null
          }
        },
        "514c81f7e1d84cabb3cd05a54f16e5e0": {
          "model_module": "@jupyter-widgets/controls",
          "model_name": "DescriptionStyleModel",
          "state": {
            "_view_name": "StyleView",
            "_model_name": "DescriptionStyleModel",
            "description_width": "",
            "_view_module": "@jupyter-widgets/base",
            "_model_module_version": "1.5.0",
            "_view_count": null,
            "_view_module_version": "1.2.0",
            "_model_module": "@jupyter-widgets/controls"
          }
        },
        "26244fa1e6e64d10ab1e4a2437da7631": {
          "model_module": "@jupyter-widgets/base",
          "model_name": "LayoutModel",
          "state": {
            "_view_name": "LayoutView",
            "grid_template_rows": null,
            "right": null,
            "justify_content": null,
            "_view_module": "@jupyter-widgets/base",
            "overflow": null,
            "_model_module_version": "1.2.0",
            "_view_count": null,
            "flex_flow": null,
            "width": null,
            "min_width": null,
            "border": null,
            "align_items": null,
            "bottom": null,
            "_model_module": "@jupyter-widgets/base",
            "top": null,
            "grid_column": null,
            "overflow_y": null,
            "overflow_x": null,
            "grid_auto_flow": null,
            "grid_area": null,
            "grid_template_columns": null,
            "flex": null,
            "_model_name": "LayoutModel",
            "justify_items": null,
            "grid_row": null,
            "max_height": null,
            "align_content": null,
            "visibility": null,
            "align_self": null,
            "height": null,
            "min_height": null,
            "padding": null,
            "grid_auto_rows": null,
            "grid_gap": null,
            "max_width": null,
            "order": null,
            "_view_module_version": "1.2.0",
            "grid_template_areas": null,
            "object_position": null,
            "object_fit": null,
            "grid_auto_columns": null,
            "margin": null,
            "display": null,
            "left": null
          }
        },
        "cc94ab3004454ae3b3cb68cb2e6d27b9": {
          "model_module": "@jupyter-widgets/controls",
          "model_name": "HBoxModel",
          "state": {
            "_view_name": "HBoxView",
            "_dom_classes": [],
            "_model_name": "HBoxModel",
            "_view_module": "@jupyter-widgets/controls",
            "_model_module_version": "1.5.0",
            "_view_count": null,
            "_view_module_version": "1.5.0",
            "box_style": "",
            "layout": "IPY_MODEL_9e6e7ddd92934b5db1a850404a942a80",
            "_model_module": "@jupyter-widgets/controls",
            "children": [
              "IPY_MODEL_028659d5d46b4ef083b6f6db3c9c9aa2",
              "IPY_MODEL_4dc4e33ffc4d42a297f330c21dbb845a"
            ]
          }
        },
        "9e6e7ddd92934b5db1a850404a942a80": {
          "model_module": "@jupyter-widgets/base",
          "model_name": "LayoutModel",
          "state": {
            "_view_name": "LayoutView",
            "grid_template_rows": null,
            "right": null,
            "justify_content": null,
            "_view_module": "@jupyter-widgets/base",
            "overflow": null,
            "_model_module_version": "1.2.0",
            "_view_count": null,
            "flex_flow": "row wrap",
            "width": "100%",
            "min_width": null,
            "border": null,
            "align_items": null,
            "bottom": null,
            "_model_module": "@jupyter-widgets/base",
            "top": null,
            "grid_column": null,
            "overflow_y": null,
            "overflow_x": null,
            "grid_auto_flow": null,
            "grid_area": null,
            "grid_template_columns": null,
            "flex": null,
            "_model_name": "LayoutModel",
            "justify_items": null,
            "grid_row": null,
            "max_height": null,
            "align_content": null,
            "visibility": null,
            "align_self": null,
            "height": null,
            "min_height": null,
            "padding": null,
            "grid_auto_rows": null,
            "grid_gap": null,
            "max_width": null,
            "order": null,
            "_view_module_version": "1.2.0",
            "grid_template_areas": null,
            "object_position": null,
            "object_fit": null,
            "grid_auto_columns": null,
            "margin": null,
            "display": "inline-flex",
            "left": null
          }
        },
        "028659d5d46b4ef083b6f6db3c9c9aa2": {
          "model_module": "@jupyter-widgets/controls",
          "model_name": "FloatProgressModel",
          "state": {
            "_view_name": "ProgressView",
            "style": "IPY_MODEL_9103ad26155f4c7c8e8e7d9e8fa565f0",
            "_dom_classes": [],
            "description": "Epoch 3:  26%",
            "_model_name": "FloatProgressModel",
            "bar_style": "danger",
            "max": 231,
            "_view_module": "@jupyter-widgets/controls",
            "_model_module_version": "1.5.0",
            "value": 59,
            "_view_count": null,
            "_view_module_version": "1.5.0",
            "orientation": "horizontal",
            "min": 0,
            "description_tooltip": null,
            "_model_module": "@jupyter-widgets/controls",
            "layout": "IPY_MODEL_086b6c10c8af427982edf8d3baa7f833"
          }
        },
        "4dc4e33ffc4d42a297f330c21dbb845a": {
          "model_module": "@jupyter-widgets/controls",
          "model_name": "HTMLModel",
          "state": {
            "_view_name": "HTMLView",
            "style": "IPY_MODEL_1e7025049d794632b906736eb97e5a7b",
            "_dom_classes": [],
            "description": "",
            "_model_name": "HTMLModel",
            "placeholder": "​",
            "_view_module": "@jupyter-widgets/controls",
            "_model_module_version": "1.5.0",
            "value": " 59/231 [00:29&lt;01:27,  1.97it/s, loss=nan, v_num=i3e3]",
            "_view_count": null,
            "_view_module_version": "1.5.0",
            "description_tooltip": null,
            "_model_module": "@jupyter-widgets/controls",
            "layout": "IPY_MODEL_c5eda75f266a49dca2c7b8f9a8be4971"
          }
        },
        "9103ad26155f4c7c8e8e7d9e8fa565f0": {
          "model_module": "@jupyter-widgets/controls",
          "model_name": "ProgressStyleModel",
          "state": {
            "_view_name": "StyleView",
            "_model_name": "ProgressStyleModel",
            "description_width": "initial",
            "_view_module": "@jupyter-widgets/base",
            "_model_module_version": "1.5.0",
            "_view_count": null,
            "_view_module_version": "1.2.0",
            "bar_color": null,
            "_model_module": "@jupyter-widgets/controls"
          }
        },
        "086b6c10c8af427982edf8d3baa7f833": {
          "model_module": "@jupyter-widgets/base",
          "model_name": "LayoutModel",
          "state": {
            "_view_name": "LayoutView",
            "grid_template_rows": null,
            "right": null,
            "justify_content": null,
            "_view_module": "@jupyter-widgets/base",
            "overflow": null,
            "_model_module_version": "1.2.0",
            "_view_count": null,
            "flex_flow": null,
            "width": null,
            "min_width": null,
            "border": null,
            "align_items": null,
            "bottom": null,
            "_model_module": "@jupyter-widgets/base",
            "top": null,
            "grid_column": null,
            "overflow_y": null,
            "overflow_x": null,
            "grid_auto_flow": null,
            "grid_area": null,
            "grid_template_columns": null,
            "flex": "2",
            "_model_name": "LayoutModel",
            "justify_items": null,
            "grid_row": null,
            "max_height": null,
            "align_content": null,
            "visibility": null,
            "align_self": null,
            "height": null,
            "min_height": null,
            "padding": null,
            "grid_auto_rows": null,
            "grid_gap": null,
            "max_width": null,
            "order": null,
            "_view_module_version": "1.2.0",
            "grid_template_areas": null,
            "object_position": null,
            "object_fit": null,
            "grid_auto_columns": null,
            "margin": null,
            "display": null,
            "left": null
          }
        },
        "1e7025049d794632b906736eb97e5a7b": {
          "model_module": "@jupyter-widgets/controls",
          "model_name": "DescriptionStyleModel",
          "state": {
            "_view_name": "StyleView",
            "_model_name": "DescriptionStyleModel",
            "description_width": "",
            "_view_module": "@jupyter-widgets/base",
            "_model_module_version": "1.5.0",
            "_view_count": null,
            "_view_module_version": "1.2.0",
            "_model_module": "@jupyter-widgets/controls"
          }
        },
        "c5eda75f266a49dca2c7b8f9a8be4971": {
          "model_module": "@jupyter-widgets/base",
          "model_name": "LayoutModel",
          "state": {
            "_view_name": "LayoutView",
            "grid_template_rows": null,
            "right": null,
            "justify_content": null,
            "_view_module": "@jupyter-widgets/base",
            "overflow": null,
            "_model_module_version": "1.2.0",
            "_view_count": null,
            "flex_flow": null,
            "width": null,
            "min_width": null,
            "border": null,
            "align_items": null,
            "bottom": null,
            "_model_module": "@jupyter-widgets/base",
            "top": null,
            "grid_column": null,
            "overflow_y": null,
            "overflow_x": null,
            "grid_auto_flow": null,
            "grid_area": null,
            "grid_template_columns": null,
            "flex": null,
            "_model_name": "LayoutModel",
            "justify_items": null,
            "grid_row": null,
            "max_height": null,
            "align_content": null,
            "visibility": null,
            "align_self": null,
            "height": null,
            "min_height": null,
            "padding": null,
            "grid_auto_rows": null,
            "grid_gap": null,
            "max_width": null,
            "order": null,
            "_view_module_version": "1.2.0",
            "grid_template_areas": null,
            "object_position": null,
            "object_fit": null,
            "grid_auto_columns": null,
            "margin": null,
            "display": null,
            "left": null
          }
        },
        "d4c0b939f57f46daac92605381702360": {
          "model_module": "@jupyter-widgets/controls",
          "model_name": "HBoxModel",
          "state": {
            "_view_name": "HBoxView",
            "_dom_classes": [],
            "_model_name": "HBoxModel",
            "_view_module": "@jupyter-widgets/controls",
            "_model_module_version": "1.5.0",
            "_view_count": null,
            "_view_module_version": "1.5.0",
            "box_style": "",
            "layout": "IPY_MODEL_e25c1790cda641aa8110d5547276edd1",
            "_model_module": "@jupyter-widgets/controls",
            "children": [
              "IPY_MODEL_7f52675a94b9482cbac73836e72f717d",
              "IPY_MODEL_fda70327406f41ce8918c43cb0e17056"
            ]
          }
        },
        "e25c1790cda641aa8110d5547276edd1": {
          "model_module": "@jupyter-widgets/base",
          "model_name": "LayoutModel",
          "state": {
            "_view_name": "LayoutView",
            "grid_template_rows": null,
            "right": null,
            "justify_content": null,
            "_view_module": "@jupyter-widgets/base",
            "overflow": null,
            "_model_module_version": "1.2.0",
            "_view_count": null,
            "flex_flow": "row wrap",
            "width": "100%",
            "min_width": null,
            "border": null,
            "align_items": null,
            "bottom": null,
            "_model_module": "@jupyter-widgets/base",
            "top": null,
            "grid_column": null,
            "overflow_y": null,
            "overflow_x": null,
            "grid_auto_flow": null,
            "grid_area": null,
            "grid_template_columns": null,
            "flex": null,
            "_model_name": "LayoutModel",
            "justify_items": null,
            "grid_row": null,
            "max_height": null,
            "align_content": null,
            "visibility": null,
            "align_self": null,
            "height": null,
            "min_height": null,
            "padding": null,
            "grid_auto_rows": null,
            "grid_gap": null,
            "max_width": null,
            "order": null,
            "_view_module_version": "1.2.0",
            "grid_template_areas": null,
            "object_position": null,
            "object_fit": null,
            "grid_auto_columns": null,
            "margin": null,
            "display": "inline-flex",
            "left": null
          }
        },
        "7f52675a94b9482cbac73836e72f717d": {
          "model_module": "@jupyter-widgets/controls",
          "model_name": "FloatProgressModel",
          "state": {
            "_view_name": "ProgressView",
            "style": "IPY_MODEL_efa9d0ed98f84d2e96a2f1eb5b9976a7",
            "_dom_classes": [],
            "description": "Validating: 100%",
            "_model_name": "FloatProgressModel",
            "bar_style": "info",
            "max": 1,
            "_view_module": "@jupyter-widgets/controls",
            "_model_module_version": "1.5.0",
            "value": 1,
            "_view_count": null,
            "_view_module_version": "1.5.0",
            "orientation": "horizontal",
            "min": 0,
            "description_tooltip": null,
            "_model_module": "@jupyter-widgets/controls",
            "layout": "IPY_MODEL_89c076134ff84f108cdd3fbba578eab2"
          }
        },
        "fda70327406f41ce8918c43cb0e17056": {
          "model_module": "@jupyter-widgets/controls",
          "model_name": "HTMLModel",
          "state": {
            "_view_name": "HTMLView",
            "style": "IPY_MODEL_950f2bb0df414e268a3b3bd28a064118",
            "_dom_classes": [],
            "description": "",
            "_model_name": "HTMLModel",
            "placeholder": "​",
            "_view_module": "@jupyter-widgets/controls",
            "_model_module_version": "1.5.0",
            "value": " 26/26 [00:10&lt;00:00,  3.78it/s]",
            "_view_count": null,
            "_view_module_version": "1.5.0",
            "description_tooltip": null,
            "_model_module": "@jupyter-widgets/controls",
            "layout": "IPY_MODEL_45f010b2c9b44f5f811afb3f38cc040a"
          }
        },
        "efa9d0ed98f84d2e96a2f1eb5b9976a7": {
          "model_module": "@jupyter-widgets/controls",
          "model_name": "ProgressStyleModel",
          "state": {
            "_view_name": "StyleView",
            "_model_name": "ProgressStyleModel",
            "description_width": "initial",
            "_view_module": "@jupyter-widgets/base",
            "_model_module_version": "1.5.0",
            "_view_count": null,
            "_view_module_version": "1.2.0",
            "bar_color": null,
            "_model_module": "@jupyter-widgets/controls"
          }
        },
        "89c076134ff84f108cdd3fbba578eab2": {
          "model_module": "@jupyter-widgets/base",
          "model_name": "LayoutModel",
          "state": {
            "_view_name": "LayoutView",
            "grid_template_rows": null,
            "right": null,
            "justify_content": null,
            "_view_module": "@jupyter-widgets/base",
            "overflow": null,
            "_model_module_version": "1.2.0",
            "_view_count": null,
            "flex_flow": null,
            "width": null,
            "min_width": null,
            "border": null,
            "align_items": null,
            "bottom": null,
            "_model_module": "@jupyter-widgets/base",
            "top": null,
            "grid_column": null,
            "overflow_y": null,
            "overflow_x": null,
            "grid_auto_flow": null,
            "grid_area": null,
            "grid_template_columns": null,
            "flex": "2",
            "_model_name": "LayoutModel",
            "justify_items": null,
            "grid_row": null,
            "max_height": null,
            "align_content": null,
            "visibility": null,
            "align_self": null,
            "height": null,
            "min_height": null,
            "padding": null,
            "grid_auto_rows": null,
            "grid_gap": null,
            "max_width": null,
            "order": null,
            "_view_module_version": "1.2.0",
            "grid_template_areas": null,
            "object_position": null,
            "object_fit": null,
            "grid_auto_columns": null,
            "margin": null,
            "display": null,
            "left": null
          }
        },
        "950f2bb0df414e268a3b3bd28a064118": {
          "model_module": "@jupyter-widgets/controls",
          "model_name": "DescriptionStyleModel",
          "state": {
            "_view_name": "StyleView",
            "_model_name": "DescriptionStyleModel",
            "description_width": "",
            "_view_module": "@jupyter-widgets/base",
            "_model_module_version": "1.5.0",
            "_view_count": null,
            "_view_module_version": "1.2.0",
            "_model_module": "@jupyter-widgets/controls"
          }
        },
        "45f010b2c9b44f5f811afb3f38cc040a": {
          "model_module": "@jupyter-widgets/base",
          "model_name": "LayoutModel",
          "state": {
            "_view_name": "LayoutView",
            "grid_template_rows": null,
            "right": null,
            "justify_content": null,
            "_view_module": "@jupyter-widgets/base",
            "overflow": null,
            "_model_module_version": "1.2.0",
            "_view_count": null,
            "flex_flow": null,
            "width": null,
            "min_width": null,
            "border": null,
            "align_items": null,
            "bottom": null,
            "_model_module": "@jupyter-widgets/base",
            "top": null,
            "grid_column": null,
            "overflow_y": null,
            "overflow_x": null,
            "grid_auto_flow": null,
            "grid_area": null,
            "grid_template_columns": null,
            "flex": null,
            "_model_name": "LayoutModel",
            "justify_items": null,
            "grid_row": null,
            "max_height": null,
            "align_content": null,
            "visibility": null,
            "align_self": null,
            "height": null,
            "min_height": null,
            "padding": null,
            "grid_auto_rows": null,
            "grid_gap": null,
            "max_width": null,
            "order": null,
            "_view_module_version": "1.2.0",
            "grid_template_areas": null,
            "object_position": null,
            "object_fit": null,
            "grid_auto_columns": null,
            "margin": null,
            "display": null,
            "left": null
          }
        },
        "c381a7d61d7a4813a3cb1313bef38dd4": {
          "model_module": "@jupyter-widgets/controls",
          "model_name": "HBoxModel",
          "state": {
            "_view_name": "HBoxView",
            "_dom_classes": [],
            "_model_name": "HBoxModel",
            "_view_module": "@jupyter-widgets/controls",
            "_model_module_version": "1.5.0",
            "_view_count": null,
            "_view_module_version": "1.5.0",
            "box_style": "",
            "layout": "IPY_MODEL_2753a636dc4a42f0a7ed1eb00f0a57ac",
            "_model_module": "@jupyter-widgets/controls",
            "children": [
              "IPY_MODEL_f4a86527020744d5af473f7a2c939aea",
              "IPY_MODEL_6aa83a406558465787503350e12ffd4d"
            ]
          }
        },
        "2753a636dc4a42f0a7ed1eb00f0a57ac": {
          "model_module": "@jupyter-widgets/base",
          "model_name": "LayoutModel",
          "state": {
            "_view_name": "LayoutView",
            "grid_template_rows": null,
            "right": null,
            "justify_content": null,
            "_view_module": "@jupyter-widgets/base",
            "overflow": null,
            "_model_module_version": "1.2.0",
            "_view_count": null,
            "flex_flow": "row wrap",
            "width": "100%",
            "min_width": null,
            "border": null,
            "align_items": null,
            "bottom": null,
            "_model_module": "@jupyter-widgets/base",
            "top": null,
            "grid_column": null,
            "overflow_y": null,
            "overflow_x": null,
            "grid_auto_flow": null,
            "grid_area": null,
            "grid_template_columns": null,
            "flex": null,
            "_model_name": "LayoutModel",
            "justify_items": null,
            "grid_row": null,
            "max_height": null,
            "align_content": null,
            "visibility": null,
            "align_self": null,
            "height": null,
            "min_height": null,
            "padding": null,
            "grid_auto_rows": null,
            "grid_gap": null,
            "max_width": null,
            "order": null,
            "_view_module_version": "1.2.0",
            "grid_template_areas": null,
            "object_position": null,
            "object_fit": null,
            "grid_auto_columns": null,
            "margin": null,
            "display": "inline-flex",
            "left": null
          }
        },
        "f4a86527020744d5af473f7a2c939aea": {
          "model_module": "@jupyter-widgets/controls",
          "model_name": "FloatProgressModel",
          "state": {
            "_view_name": "ProgressView",
            "style": "IPY_MODEL_dfe500eb71be4557b49a659c6e5c16da",
            "_dom_classes": [],
            "description": "Validating: 100%",
            "_model_name": "FloatProgressModel",
            "bar_style": "info",
            "max": 1,
            "_view_module": "@jupyter-widgets/controls",
            "_model_module_version": "1.5.0",
            "value": 1,
            "_view_count": null,
            "_view_module_version": "1.5.0",
            "orientation": "horizontal",
            "min": 0,
            "description_tooltip": null,
            "_model_module": "@jupyter-widgets/controls",
            "layout": "IPY_MODEL_a56410faa3a94c918ac02fce13ba1e64"
          }
        },
        "6aa83a406558465787503350e12ffd4d": {
          "model_module": "@jupyter-widgets/controls",
          "model_name": "HTMLModel",
          "state": {
            "_view_name": "HTMLView",
            "style": "IPY_MODEL_659a3246a4fe4bab977e0192244eacbd",
            "_dom_classes": [],
            "description": "",
            "_model_name": "HTMLModel",
            "placeholder": "​",
            "_view_module": "@jupyter-widgets/controls",
            "_model_module_version": "1.5.0",
            "value": " 26/26 [00:07&lt;00:00,  4.30it/s]",
            "_view_count": null,
            "_view_module_version": "1.5.0",
            "description_tooltip": null,
            "_model_module": "@jupyter-widgets/controls",
            "layout": "IPY_MODEL_94fecb0fdfca4f8abafc4395c25d1910"
          }
        },
        "dfe500eb71be4557b49a659c6e5c16da": {
          "model_module": "@jupyter-widgets/controls",
          "model_name": "ProgressStyleModel",
          "state": {
            "_view_name": "StyleView",
            "_model_name": "ProgressStyleModel",
            "description_width": "initial",
            "_view_module": "@jupyter-widgets/base",
            "_model_module_version": "1.5.0",
            "_view_count": null,
            "_view_module_version": "1.2.0",
            "bar_color": null,
            "_model_module": "@jupyter-widgets/controls"
          }
        },
        "a56410faa3a94c918ac02fce13ba1e64": {
          "model_module": "@jupyter-widgets/base",
          "model_name": "LayoutModel",
          "state": {
            "_view_name": "LayoutView",
            "grid_template_rows": null,
            "right": null,
            "justify_content": null,
            "_view_module": "@jupyter-widgets/base",
            "overflow": null,
            "_model_module_version": "1.2.0",
            "_view_count": null,
            "flex_flow": null,
            "width": null,
            "min_width": null,
            "border": null,
            "align_items": null,
            "bottom": null,
            "_model_module": "@jupyter-widgets/base",
            "top": null,
            "grid_column": null,
            "overflow_y": null,
            "overflow_x": null,
            "grid_auto_flow": null,
            "grid_area": null,
            "grid_template_columns": null,
            "flex": "2",
            "_model_name": "LayoutModel",
            "justify_items": null,
            "grid_row": null,
            "max_height": null,
            "align_content": null,
            "visibility": null,
            "align_self": null,
            "height": null,
            "min_height": null,
            "padding": null,
            "grid_auto_rows": null,
            "grid_gap": null,
            "max_width": null,
            "order": null,
            "_view_module_version": "1.2.0",
            "grid_template_areas": null,
            "object_position": null,
            "object_fit": null,
            "grid_auto_columns": null,
            "margin": null,
            "display": null,
            "left": null
          }
        },
        "659a3246a4fe4bab977e0192244eacbd": {
          "model_module": "@jupyter-widgets/controls",
          "model_name": "DescriptionStyleModel",
          "state": {
            "_view_name": "StyleView",
            "_model_name": "DescriptionStyleModel",
            "description_width": "",
            "_view_module": "@jupyter-widgets/base",
            "_model_module_version": "1.5.0",
            "_view_count": null,
            "_view_module_version": "1.2.0",
            "_model_module": "@jupyter-widgets/controls"
          }
        },
        "94fecb0fdfca4f8abafc4395c25d1910": {
          "model_module": "@jupyter-widgets/base",
          "model_name": "LayoutModel",
          "state": {
            "_view_name": "LayoutView",
            "grid_template_rows": null,
            "right": null,
            "justify_content": null,
            "_view_module": "@jupyter-widgets/base",
            "overflow": null,
            "_model_module_version": "1.2.0",
            "_view_count": null,
            "flex_flow": null,
            "width": null,
            "min_width": null,
            "border": null,
            "align_items": null,
            "bottom": null,
            "_model_module": "@jupyter-widgets/base",
            "top": null,
            "grid_column": null,
            "overflow_y": null,
            "overflow_x": null,
            "grid_auto_flow": null,
            "grid_area": null,
            "grid_template_columns": null,
            "flex": null,
            "_model_name": "LayoutModel",
            "justify_items": null,
            "grid_row": null,
            "max_height": null,
            "align_content": null,
            "visibility": null,
            "align_self": null,
            "height": null,
            "min_height": null,
            "padding": null,
            "grid_auto_rows": null,
            "grid_gap": null,
            "max_width": null,
            "order": null,
            "_view_module_version": "1.2.0",
            "grid_template_areas": null,
            "object_position": null,
            "object_fit": null,
            "grid_auto_columns": null,
            "margin": null,
            "display": null,
            "left": null
          }
        },
        "fdb1d68728dc49fab835d0504f0ef5d3": {
          "model_module": "@jupyter-widgets/controls",
          "model_name": "HBoxModel",
          "state": {
            "_view_name": "HBoxView",
            "_dom_classes": [],
            "_model_name": "HBoxModel",
            "_view_module": "@jupyter-widgets/controls",
            "_model_module_version": "1.5.0",
            "_view_count": null,
            "_view_module_version": "1.5.0",
            "box_style": "",
            "layout": "IPY_MODEL_8c58e0c9d4404defa761615ed9d4a1bd",
            "_model_module": "@jupyter-widgets/controls",
            "children": [
              "IPY_MODEL_d59da7965e5340b08317bcdb20ef57fd",
              "IPY_MODEL_f53571eb0b4d4be0aee4ea5f1d1bcd1b"
            ]
          }
        },
        "8c58e0c9d4404defa761615ed9d4a1bd": {
          "model_module": "@jupyter-widgets/base",
          "model_name": "LayoutModel",
          "state": {
            "_view_name": "LayoutView",
            "grid_template_rows": null,
            "right": null,
            "justify_content": null,
            "_view_module": "@jupyter-widgets/base",
            "overflow": null,
            "_model_module_version": "1.2.0",
            "_view_count": null,
            "flex_flow": "row wrap",
            "width": "100%",
            "min_width": null,
            "border": null,
            "align_items": null,
            "bottom": null,
            "_model_module": "@jupyter-widgets/base",
            "top": null,
            "grid_column": null,
            "overflow_y": null,
            "overflow_x": null,
            "grid_auto_flow": null,
            "grid_area": null,
            "grid_template_columns": null,
            "flex": null,
            "_model_name": "LayoutModel",
            "justify_items": null,
            "grid_row": null,
            "max_height": null,
            "align_content": null,
            "visibility": null,
            "align_self": null,
            "height": null,
            "min_height": null,
            "padding": null,
            "grid_auto_rows": null,
            "grid_gap": null,
            "max_width": null,
            "order": null,
            "_view_module_version": "1.2.0",
            "grid_template_areas": null,
            "object_position": null,
            "object_fit": null,
            "grid_auto_columns": null,
            "margin": null,
            "display": "inline-flex",
            "left": null
          }
        },
        "d59da7965e5340b08317bcdb20ef57fd": {
          "model_module": "@jupyter-widgets/controls",
          "model_name": "FloatProgressModel",
          "state": {
            "_view_name": "ProgressView",
            "style": "IPY_MODEL_4745d811caa740bca4d1c33bc0454984",
            "_dom_classes": [],
            "description": "Validating: 100%",
            "_model_name": "FloatProgressModel",
            "bar_style": "info",
            "max": 1,
            "_view_module": "@jupyter-widgets/controls",
            "_model_module_version": "1.5.0",
            "value": 1,
            "_view_count": null,
            "_view_module_version": "1.5.0",
            "orientation": "horizontal",
            "min": 0,
            "description_tooltip": null,
            "_model_module": "@jupyter-widgets/controls",
            "layout": "IPY_MODEL_a832edc8173b4824bb98663d088f8efb"
          }
        },
        "f53571eb0b4d4be0aee4ea5f1d1bcd1b": {
          "model_module": "@jupyter-widgets/controls",
          "model_name": "HTMLModel",
          "state": {
            "_view_name": "HTMLView",
            "style": "IPY_MODEL_d8d444cae3ab4802908000402279bda5",
            "_dom_classes": [],
            "description": "",
            "_model_name": "HTMLModel",
            "placeholder": "​",
            "_view_module": "@jupyter-widgets/controls",
            "_model_module_version": "1.5.0",
            "value": " 26/26 [00:07&lt;00:00,  4.69it/s]",
            "_view_count": null,
            "_view_module_version": "1.5.0",
            "description_tooltip": null,
            "_model_module": "@jupyter-widgets/controls",
            "layout": "IPY_MODEL_0427feb709f94daea5e0084b0ce27920"
          }
        },
        "4745d811caa740bca4d1c33bc0454984": {
          "model_module": "@jupyter-widgets/controls",
          "model_name": "ProgressStyleModel",
          "state": {
            "_view_name": "StyleView",
            "_model_name": "ProgressStyleModel",
            "description_width": "initial",
            "_view_module": "@jupyter-widgets/base",
            "_model_module_version": "1.5.0",
            "_view_count": null,
            "_view_module_version": "1.2.0",
            "bar_color": null,
            "_model_module": "@jupyter-widgets/controls"
          }
        },
        "a832edc8173b4824bb98663d088f8efb": {
          "model_module": "@jupyter-widgets/base",
          "model_name": "LayoutModel",
          "state": {
            "_view_name": "LayoutView",
            "grid_template_rows": null,
            "right": null,
            "justify_content": null,
            "_view_module": "@jupyter-widgets/base",
            "overflow": null,
            "_model_module_version": "1.2.0",
            "_view_count": null,
            "flex_flow": null,
            "width": null,
            "min_width": null,
            "border": null,
            "align_items": null,
            "bottom": null,
            "_model_module": "@jupyter-widgets/base",
            "top": null,
            "grid_column": null,
            "overflow_y": null,
            "overflow_x": null,
            "grid_auto_flow": null,
            "grid_area": null,
            "grid_template_columns": null,
            "flex": "2",
            "_model_name": "LayoutModel",
            "justify_items": null,
            "grid_row": null,
            "max_height": null,
            "align_content": null,
            "visibility": null,
            "align_self": null,
            "height": null,
            "min_height": null,
            "padding": null,
            "grid_auto_rows": null,
            "grid_gap": null,
            "max_width": null,
            "order": null,
            "_view_module_version": "1.2.0",
            "grid_template_areas": null,
            "object_position": null,
            "object_fit": null,
            "grid_auto_columns": null,
            "margin": null,
            "display": null,
            "left": null
          }
        },
        "d8d444cae3ab4802908000402279bda5": {
          "model_module": "@jupyter-widgets/controls",
          "model_name": "DescriptionStyleModel",
          "state": {
            "_view_name": "StyleView",
            "_model_name": "DescriptionStyleModel",
            "description_width": "",
            "_view_module": "@jupyter-widgets/base",
            "_model_module_version": "1.5.0",
            "_view_count": null,
            "_view_module_version": "1.2.0",
            "_model_module": "@jupyter-widgets/controls"
          }
        },
        "0427feb709f94daea5e0084b0ce27920": {
          "model_module": "@jupyter-widgets/base",
          "model_name": "LayoutModel",
          "state": {
            "_view_name": "LayoutView",
            "grid_template_rows": null,
            "right": null,
            "justify_content": null,
            "_view_module": "@jupyter-widgets/base",
            "overflow": null,
            "_model_module_version": "1.2.0",
            "_view_count": null,
            "flex_flow": null,
            "width": null,
            "min_width": null,
            "border": null,
            "align_items": null,
            "bottom": null,
            "_model_module": "@jupyter-widgets/base",
            "top": null,
            "grid_column": null,
            "overflow_y": null,
            "overflow_x": null,
            "grid_auto_flow": null,
            "grid_area": null,
            "grid_template_columns": null,
            "flex": null,
            "_model_name": "LayoutModel",
            "justify_items": null,
            "grid_row": null,
            "max_height": null,
            "align_content": null,
            "visibility": null,
            "align_self": null,
            "height": null,
            "min_height": null,
            "padding": null,
            "grid_auto_rows": null,
            "grid_gap": null,
            "max_width": null,
            "order": null,
            "_view_module_version": "1.2.0",
            "grid_template_areas": null,
            "object_position": null,
            "object_fit": null,
            "grid_auto_columns": null,
            "margin": null,
            "display": null,
            "left": null
          }
        }
      }
    }
  },
  "cells": [
    {
      "cell_type": "markdown",
      "metadata": {
        "id": "pjGak1ObTT7C"
      },
      "source": [
        "### Mount the drive to see the data"
      ]
    },
    {
      "cell_type": "code",
      "metadata": {
        "id": "JWA_R9LJTbIe",
        "outputId": "0bd3f914-1d35-4146-cd9b-a15837cf7d89",
        "colab": {
          "base_uri": "https://localhost:8080/"
        }
      },
      "source": [
        "from google.colab import drive\n",
        "drive.mount('/content/drive')"
      ],
      "execution_count": null,
      "outputs": [
        {
          "output_type": "stream",
          "text": [
            "Mounted at /content/drive\n"
          ],
          "name": "stdout"
        }
      ]
    },
    {
      "cell_type": "code",
      "metadata": {
        "id": "saRVdLGYTTnu"
      },
      "source": [
        "# !unzip drive/My\\ Drive/flower_data.zip"
      ],
      "execution_count": null,
      "outputs": []
    },
    {
      "cell_type": "code",
      "metadata": {
        "id": "I71QlsNBTrb6"
      },
      "source": [
        ""
      ],
      "execution_count": null,
      "outputs": []
    },
    {
      "cell_type": "markdown",
      "metadata": {
        "id": "sw-gOqGcwX-k"
      },
      "source": [
        "### Dependencies"
      ]
    },
    {
      "cell_type": "code",
      "metadata": {
        "id": "jxRyU436wZyV"
      },
      "source": [
        "# !pip install pytorch-lightning wandb einops"
      ],
      "execution_count": null,
      "outputs": []
    },
    {
      "cell_type": "code",
      "metadata": {
        "id": "Bl2uxsvPwX-m"
      },
      "source": [
        "import torch\n",
        "import torch.nn as nn\n",
        "from torch.utils.data import DataLoader\n",
        "# import torch.nn.functional as F\n",
        "import pytorch_lightning\n",
        "import wandb\n",
        "import os\n",
        "import torchvision\n",
        "from einops import rearrange\n"
      ],
      "execution_count": null,
      "outputs": []
    },
    {
      "cell_type": "code",
      "metadata": {
        "id": "AUuiCY7Cxs2r"
      },
      "source": [
        "device = torch.device(\"cuda:0\" if torch.cuda.is_available() else \"cpu\")"
      ],
      "execution_count": null,
      "outputs": []
    },
    {
      "cell_type": "code",
      "metadata": {
        "id": "9RRFQRhRxxtr",
        "outputId": "6240576c-eec6-463f-fdad-af772680b8d9",
        "colab": {
          "base_uri": "https://localhost:8080/"
        }
      },
      "source": [
        "device"
      ],
      "execution_count": null,
      "outputs": [
        {
          "output_type": "execute_result",
          "data": {
            "text/plain": [
              "device(type='cuda', index=0)"
            ]
          },
          "metadata": {
            "tags": []
          },
          "execution_count": 9
        }
      ]
    },
    {
      "cell_type": "markdown",
      "metadata": {
        "id": "q5FgKsJwbYmF"
      },
      "source": [
        "#### Data Preparation"
      ]
    },
    {
      "cell_type": "code",
      "metadata": {
        "id": "Md3FPG8ibbUL"
      },
      "source": [
        "IMAGE_SIZE = 256\n",
        "BATCH_SIZE = 256\n",
        "NUM_WORKERS = 2"
      ],
      "execution_count": null,
      "outputs": []
    },
    {
      "cell_type": "code",
      "metadata": {
        "id": "ZFc5EofIbtBA"
      },
      "source": [
        "transforms  = torchvision.transforms.Compose([\n",
        "    torchvision.transforms.Resize(IMAGE_SIZE),\n",
        "    torchvision.transforms.CenterCrop(IMAGE_SIZE),\n",
        "    torchvision.transforms.ToTensor(),\n",
        "    torchvision.transforms.Normalize([0.485, 0.456, 0.406], [0.229, 0.224, 0.225])\n",
        "])"
      ],
      "execution_count": null,
      "outputs": []
    },
    {
      "cell_type": "code",
      "metadata": {
        "id": "Q5n6l8phbhGr"
      },
      "source": [
        "train_data = torchvision.datasets.ImageFolder(\n",
        "    root=\"./flower_data/train/\",\n",
        "    transform=transforms\n",
        ")\n",
        "valid_data = torchvision.datasets.ImageFolder(\n",
        "    root=\"./flower_data/valid/\",\n",
        "    transform=transforms\n",
        ")"
      ],
      "execution_count": null,
      "outputs": []
    },
    {
      "cell_type": "code",
      "metadata": {
        "id": "gS4TaHd3owoU"
      },
      "source": [
        "train_loader = DataLoader(\n",
        "    dataset=train_data,\n",
        "    batch_size=BATCH_SIZE,\n",
        "    shuffle=True,\n",
        "    num_workers=NUM_WORKERS\n",
        ")\n",
        "valid_loader = DataLoader(\n",
        "    dataset=valid_data,\n",
        "    batch_size=BATCH_SIZE,\n",
        "    shuffle=False,\n",
        "    num_workers=NUM_WORKERS\n",
        ")"
      ],
      "execution_count": null,
      "outputs": []
    },
    {
      "cell_type": "code",
      "metadata": {
        "id": "AdnQsCZMpqP_",
        "outputId": "578a9d32-60b0-42a0-d0a1-72e58b0626ef",
        "colab": {
          "base_uri": "https://localhost:8080/"
        }
      },
      "source": [
        "for x, y in train_loader:\n",
        "  print(x.shape, y.shape)\n",
        "  break"
      ],
      "execution_count": null,
      "outputs": [
        {
          "output_type": "stream",
          "text": [
            "torch.Size([256, 3, 256, 256]) torch.Size([256])\n"
          ],
          "name": "stdout"
        }
      ]
    },
    {
      "cell_type": "markdown",
      "metadata": {
        "id": "ssSMroobwX-w"
      },
      "source": [
        "## Model"
      ]
    },
    {
      "cell_type": "markdown",
      "metadata": {
        "id": "4rTo8npVwX-z"
      },
      "source": [
        "![Vision Transformer](vit.png)"
      ]
    },
    {
      "cell_type": "code",
      "metadata": {
        "id": "1mNInnkhwX-7"
      },
      "source": [
        "class VisionTransformer(nn.Module):\n",
        "    \"\"\"\n",
        "        transformer module to encoder the image patches\n",
        "        output of this module will be flatten encoded patches\n",
        "    \"\"\"\n",
        "    \n",
        "    def __init__(self, image_size, channels, patch_size, stride, embedding_dim, nhead, num_layers, num_classes, fc_dim=256):\n",
        "        super(VisionTransformer, self).__init__()\n",
        "        \n",
        "        self.patch_size = patch_size\n",
        "        self.num_patches = (image_size // patch_size) ** 2\n",
        "        self.patch_dim = channels * patch_size ** 2\n",
        "        self.stride = stride\n",
        "\n",
        "        # patch_pos embedding and patch projection layer\n",
        "        self.pos_embedding = nn.Parameter(torch.randn(1, self.num_patches + 1, embedding_dim))\n",
        "        self.patch_projection = nn.Linear(in_features=self.patch_dim, out_features=embedding_dim, bias=False)\n",
        "        self.cls_token = nn.Parameter(torch.randn(1, 1, embedding_dim)) \n",
        "        \n",
        "        # transformer module to encoder the image patches output of this module will be flatten encoded patches\n",
        "        self.transformer = nn.TransformerEncoder(\n",
        "            encoder_layer=nn.TransformerEncoderLayer(d_model=embedding_dim, nhead=nhead),\n",
        "            num_layers=num_layers,\n",
        "            norm=nn.LayerNorm(normalized_shape=embedding_dim)\n",
        "        )\n",
        "        \n",
        "        # to take cls token\n",
        "        self.to_cls_token = nn.Identity()\n",
        "        # classifier or mlp head to classify the data\n",
        "        self.fc = nn.Sequential(\n",
        "            nn.Linear(in_features=embedding_dim, out_features=fc_dim),\n",
        "            nn.ReLU(),\n",
        "            nn.Linear(in_features=fc_dim, out_features=num_classes)\n",
        "        )\n",
        "        \n",
        "        \n",
        "    def forward(self, x):\n",
        "        # x.shape = [batch, w, h, channel]\n",
        "        # patchifyt the image\n",
        "        batch_size = x.shape[0]\n",
        "        \n",
        "        x = self.patchify(x, self.patch_size, self.patch_size)\n",
        "        x = self.patch_projection(x)\n",
        "        \n",
        "        # concat cls token into projected patch\n",
        "        cls_token = self.cls_token.expand(batch_size, -1, -1) \n",
        "        x = torch.cat((cls_token, x), dim=1)\n",
        "        # add positional embedding + projected patches \n",
        "        x = x + self.pos_embedding\n",
        "        \n",
        "        # encoded the input and take the cls token and then feed it to mlp\n",
        "        x = self.transformer(x)\n",
        "        x = self.to_cls_token(x[:, 0])        \n",
        "        outputs = self.fc(x)\n",
        "        return outputs\n",
        "        \n",
        "        \n",
        "    def patchify(self, images, patch_size, stride):\n",
        "        # get all image windows of size (patch_size, patch_size) and stride (stride, stride)\n",
        "        patches = images.unfold(2, patch_size, stride).unfold(3, patch_size, stride)\n",
        "        patches = patches.permute(0, 2, 3, 4, 5, 1).contiguous()\n",
        "        # patches.shape -> [batch, ... .... ... ..., ]\n",
        "        # the size of flatten vector\n",
        "        bs, pr, pc, h, w, ch = patches.shape[0], patches.shape[1], patches.shape[2], patches.shape[3], patches.shape[4], patches.shape[5]\n",
        "        # bs->batch_size, rp->patches_row, pc->patches_col, h->patch_height, w->patch_width, w->patch_widht, ch->channels\n",
        "\n",
        "        # dissolve it \n",
        "        patches = patches.view(bs, pr*pc, h*w*ch)\n",
        "\n",
        "        return patches\n",
        "        \n",
        "    \n",
        "        \n",
        "        "
      ],
      "execution_count": null,
      "outputs": []
    },
    {
      "cell_type": "markdown",
      "metadata": {
        "id": "CyBHIU4uwX_R"
      },
      "source": [
        "## Training with PyTorch-Lightning and WandB"
      ]
    },
    {
      "cell_type": "code",
      "metadata": {
        "id": "f0NIbsP9y6R9"
      },
      "source": [
        "import wandb"
      ],
      "execution_count": null,
      "outputs": []
    },
    {
      "cell_type": "code",
      "metadata": {
        "id": "s12F0La5N6y0"
      },
      "source": [
        "from tqdm import tqdm\n",
        "import pytorch_lightning as pl\n",
        "import pytorch_lightning.loggers as loggers\n",
        "import pytorch_lightning.metrics as metrics"
      ],
      "execution_count": null,
      "outputs": []
    },
    {
      "cell_type": "code",
      "metadata": {
        "id": "OhSAy-0xyG6i",
        "outputId": "d3a5c42f-594f-419c-97a1-96022ada3e7f",
        "colab": {
          "base_uri": "https://localhost:8080/"
        }
      },
      "source": [
        "!wandb login ae96c42a9c89e1b5e519ad66d3e37b6db9bbe7a0"
      ],
      "execution_count": null,
      "outputs": [
        {
          "output_type": "stream",
          "text": [
            "\u001b[34m\u001b[1mwandb\u001b[0m: Appending key for api.wandb.ai to your netrc file: /root/.netrc\n"
          ],
          "name": "stdout"
        }
      ]
    },
    {
      "cell_type": "code",
      "metadata": {
        "id": "56HNrtYn2Exd"
      },
      "source": [
        "class Residual(nn.Module):\n",
        "    def __init__(self, fn):\n",
        "        super().__init__()\n",
        "        self.fn = fn\n",
        "    def forward(self, x):\n",
        "        return self.fn(x) + x\n",
        "\n",
        "class PreNorm(nn.Module):\n",
        "    def __init__(self, dim, fn):\n",
        "        super().__init__()\n",
        "        self.norm = nn.LayerNorm(dim)\n",
        "        self.fn = fn\n",
        "    def forward(self, x):\n",
        "        return self.fn(self.norm(x))\n",
        "\n",
        "class FeedForward(nn.Module):\n",
        "    def __init__(self, dim, hidden_dim):\n",
        "        super().__init__()\n",
        "        self.net = nn.Sequential(\n",
        "            nn.Linear(dim, hidden_dim),\n",
        "            nn.GELU(),\n",
        "            nn.Linear(hidden_dim, dim)\n",
        "        )\n",
        "    def forward(self, x):\n",
        "        return self.net(x)\n",
        "\n",
        "class Attention(nn.Module):\n",
        "    def __init__(self, dim, heads = 8):\n",
        "        super().__init__()\n",
        "        self.heads = heads\n",
        "        self.scale = dim ** -0.5\n",
        "\n",
        "        self.to_qkv = nn.Linear(dim, dim * 3, bias = False)\n",
        "        self.to_out = nn.Linear(dim, dim)\n",
        "    def forward(self, x):\n",
        "        b, n, _, h = *x.shape, self.heads\n",
        "        qkv = self.to_qkv(x)\n",
        "        q, k, v = rearrange(qkv, 'b n (qkv h d) -> qkv b h n d', qkv = 3, h = h)\n",
        "\n",
        "        dots = torch.einsum('bhid,bhjd->bhij', q, k) * self.scale\n",
        "        attn = dots.softmax(dim=-1)\n",
        "\n",
        "        out = torch.einsum('bhij,bhjd->bhid', attn, v)\n",
        "        out = rearrange(out, 'b h n d -> b n (h d)')\n",
        "        out =  self.to_out(out)\n",
        "        return out\n",
        "\n",
        "class Transformer(nn.Module):\n",
        "    def __init__(self, dim, depth, heads, mlp_dim):\n",
        "        super().__init__()\n",
        "        layers = []\n",
        "        for _ in range(depth):\n",
        "            layers.extend([\n",
        "                Residual(PreNorm(dim, Attention(dim, heads = heads))),\n",
        "                Residual(PreNorm(dim, FeedForward(dim, mlp_dim)))\n",
        "            ])\n",
        "        self.net = nn.Sequential(*layers)\n",
        "    def forward(self, x):\n",
        "        return self.net(x)\n",
        "\n",
        "class ViT(nn.Module):\n",
        "    def __init__(self, *, image_size, patch_size, num_classes, dim, depth, heads, mlp_dim, channels = 3):\n",
        "        super().__init__()\n",
        "        assert image_size % patch_size == 0, 'image dimensions must be divisible by the patch size'\n",
        "        num_patches = (image_size // patch_size) ** 2\n",
        "        patch_dim = channels * patch_size ** 2\n",
        "\n",
        "        self.patch_size = patch_size\n",
        "\n",
        "        self.pos_embedding = nn.Parameter(torch.randn(1, num_patches + 1, dim))\n",
        "        self.patch_to_embedding = nn.Linear(patch_dim, dim)\n",
        "        self.cls_token = nn.Parameter(torch.randn(1, 1, dim))\n",
        "        self.transformer = Transformer(dim, depth, heads, mlp_dim)\n",
        "\n",
        "        self.to_cls_token = nn.Identity()\n",
        "\n",
        "        self.mlp_head = nn.Sequential(\n",
        "            nn.Linear(dim, mlp_dim),\n",
        "            nn.GELU(),\n",
        "            nn.Linear(mlp_dim, num_classes)\n",
        "        )\n",
        "\n",
        "    def forward(self, img):\n",
        "        p = self.patch_size\n",
        "\n",
        "        x = rearrange(img, 'b c (h p1) (w p2) -> b (h w) (p1 p2 c)', p1 = p, p2 = p)\n",
        "        x = self.patch_to_embedding(x)\n",
        "\n",
        "        cls_tokens = self.cls_token.expand(img.shape[0], -1, -1)\n",
        "        x = torch.cat((cls_tokens, x), dim=1)\n",
        "        x += self.pos_embedding\n",
        "        x = self.transformer(x)\n",
        "\n",
        "        x = self.to_cls_token(x[:, 0])\n",
        "        return self.mlp_head(x)"
      ],
      "execution_count": null,
      "outputs": []
    },
    {
      "cell_type": "code",
      "metadata": {
        "id": "gHhIEmQtqHR_"
      },
      "source": [
        "# model params\n",
        "PATCH_SIZE = 16\n",
        "NUM_CLASSES = len(train_data.classes)\n",
        "DIM = 1024\n",
        "DEPTH = 2\n",
        "HEADS = 8\n",
        "MLP_DIM = 2048\n",
        "LR = 1e-5\n",
        "EPOCHS = 250"
      ],
      "execution_count": null,
      "outputs": []
    },
    {
      "cell_type": "code",
      "metadata": {
        "id": "7Dv6TVCbpbrL"
      },
      "source": [
        "model = VisionTransformer(\n",
        "    image_size=IMAGE_SIZE,\n",
        "    channels=3,\n",
        "    patch_size=PATCH_SIZE,\n",
        "    stride=PATCH_SIZE,\n",
        "    embedding_dim=512,\n",
        "    nhead=8,\n",
        "    num_layers=2,\n",
        "    num_classes=NUM_CLASSES\n",
        ").to(device)"
      ],
      "execution_count": null,
      "outputs": []
    },
    {
      "cell_type": "code",
      "metadata": {
        "id": "I7UvMG55ponu"
      },
      "source": [
        "outputs = model(x.to(device))"
      ],
      "execution_count": null,
      "outputs": []
    },
    {
      "cell_type": "code",
      "metadata": {
        "id": "fcTpZL67prqy",
        "outputId": "15f1e7e7-cf23-449a-b081-d4858e750e90",
        "colab": {
          "base_uri": "https://localhost:8080/"
        }
      },
      "source": [
        "outputs.shape"
      ],
      "execution_count": null,
      "outputs": [
        {
          "output_type": "execute_result",
          "data": {
            "text/plain": [
              "torch.Size([32, 102])"
            ]
          },
          "metadata": {
            "tags": []
          },
          "execution_count": 39
        }
      ]
    },
    {
      "cell_type": "code",
      "metadata": {
        "id": "d9DrnALc2b0L"
      },
      "source": [
        "model = ViT(\n",
        "    image_size = IMAGE_SIZE,\n",
        "    patch_size = PATCH_SIZE,\n",
        "    num_classes = NUM_CLASSES,\n",
        "    dim = DIM,\n",
        "    depth = DEPTH,\n",
        "    heads = HEADS,\n",
        "    mlp_dim = MLP_DIM\n",
        ").to(device)"
      ],
      "execution_count": null,
      "outputs": []
    },
    {
      "cell_type": "code",
      "metadata": {
        "id": "Ftl2S-4W-q0F",
        "outputId": "d8d423a9-8520-45d5-cb36-e34f04403b98",
        "colab": {
          "base_uri": "https://localhost:8080/"
        }
      },
      "source": [
        "!nvidia-smi"
      ],
      "execution_count": null,
      "outputs": [
        {
          "output_type": "stream",
          "text": [
            "Thu Oct  8 15:28:04 2020       \n",
            "+-----------------------------------------------------------------------------+\n",
            "| NVIDIA-SMI 455.23.05    Driver Version: 418.67       CUDA Version: 10.1     |\n",
            "|-------------------------------+----------------------+----------------------+\n",
            "| GPU  Name        Persistence-M| Bus-Id        Disp.A | Volatile Uncorr. ECC |\n",
            "| Fan  Temp  Perf  Pwr:Usage/Cap|         Memory-Usage | GPU-Util  Compute M. |\n",
            "|                               |                      |               MIG M. |\n",
            "|===============================+======================+======================|\n",
            "|   0  Tesla K80           Off  | 00000000:00:04.0 Off |                    0 |\n",
            "| N/A   38C    P0    58W / 149W |    460MiB / 11441MiB |      5%      Default |\n",
            "|                               |                      |                 ERR! |\n",
            "+-------------------------------+----------------------+----------------------+\n",
            "                                                                               \n",
            "+-----------------------------------------------------------------------------+\n",
            "| Processes:                                                                  |\n",
            "|  GPU   GI   CI        PID   Type   Process name                  GPU Memory |\n",
            "|        ID   ID                                                   Usage      |\n",
            "|=============================================================================|\n",
            "|  No running processes found                                                 |\n",
            "+-----------------------------------------------------------------------------+\n"
          ],
          "name": "stdout"
        }
      ]
    },
    {
      "cell_type": "code",
      "metadata": {
        "id": "y-XbfpOmqt8Y"
      },
      "source": [
        "optimizer = torch.optim.Adam(params=model.parameters(), lr=LR)\n",
        "criterion = torch.nn.CrossEntropyLoss()\n",
        "accuracy = metrics.Accuracy()"
      ],
      "execution_count": null,
      "outputs": []
    },
    {
      "cell_type": "code",
      "metadata": {
        "id": "6dC1RscqrJEZ"
      },
      "source": [
        "def eval(model, loader):\n",
        "  model.eval()\n",
        "  loss = []\n",
        "  acc = []\n",
        "  with torch.no_grad():\n",
        "    for x, y in loader:\n",
        "      y_ = model(x.to(device))\n",
        "      l = criterion(y_, y.to(device))\n",
        "      a = accuracy(y_.cpu().argmax(dim=1), y.cpu())\n",
        "      loss.append(l.item())\n",
        "      acc.append(a.item())\n",
        "  return sum(loss)/len(loss), sum(acc)/len(acc)\n",
        "\n",
        "\n",
        "\n",
        "def train(model, train_loader, val_loader):\n",
        "  wandb.init(project=\"vision-transformer\")\n",
        "  STEPS = 0\n",
        "  for EPOCH in tqdm(range(EPOCHS)):\n",
        "    loss = []\n",
        "    acc = []\n",
        "    for x, y in train_loader:\n",
        "      x = x.to(device)\n",
        "      y = y.to(device)\n",
        "      y_ = model(x)\n",
        "      \n",
        "      # compute the loss and backpropagate\n",
        "      l = criterion(y_, y)\n",
        "      optimizer.zero_grad()\n",
        "      l.backward()\n",
        "      optimizer.step()\n",
        "\n",
        "      a = accuracy(y_.cpu().argmax(dim=1), y.cpu())\n",
        "      wandb.log({\"Step Training Accuracy\": a.item(), \"Step Training Loss\": l.item()})\n",
        "      \n",
        "      loss.append(l.item())\n",
        "      acc.append(a.item())\n",
        "      STEPS += 1\n",
        "\n",
        "    avg_loss = sum(loss)/len(loss)\n",
        "    avg_acc = sum(acc)/len(acc)\n",
        "    val_loss, val_acc = eval(model, valid_loader)\n",
        "    wandb.log({\"Training Accuracy\": avg_acc, \"Training Loss\": avg_loss, \"Validation Accuracy\":val_acc, \"Validation Loss\":val_loss})\n",
        "    print(f\"EPOCH :{EPOCH}/{EPOCHS} | Train_acc: {avg_acc:.4f} | Train_loss: {avg_loss:.4f} | Val_loss: {val_loss:.4f} | Val_acc: {val_acc:.4f}\")"
      ],
      "execution_count": null,
      "outputs": []
    },
    {
      "cell_type": "code",
      "metadata": {
        "id": "j5LoxVMSxnBJ",
        "outputId": "67cb1fc3-5760-45c2-85cb-cd7fc9cffef0",
        "colab": {
          "base_uri": "https://localhost:8080/",
          "height": 1000
        }
      },
      "source": [
        "train(model, train_loader, valid_loader)"
      ],
      "execution_count": null,
      "outputs": [
        {
          "output_type": "stream",
          "text": [
            "\u001b[34m\u001b[1mwandb\u001b[0m: Currently logged in as: \u001b[33mmacab\u001b[0m (use `wandb login --relogin` to force relogin)\n"
          ],
          "name": "stderr"
        },
        {
          "output_type": "display_data",
          "data": {
            "text/html": [
              "\n",
              "                Tracking run with wandb version 0.10.5<br/>\n",
              "                Syncing run <strong style=\"color:#cdcd00\">eternal-monkey-20</strong> to <a href=\"https://wandb.ai\" target=\"_blank\">Weights & Biases</a> <a href=\"https://docs.wandb.com/integrations/jupyter.html\" target=\"_blank\">(Documentation)</a>.<br/>\n",
              "                Project page: <a href=\"https://wandb.ai/macab/vision-transformer\" target=\"_blank\">https://wandb.ai/macab/vision-transformer</a><br/>\n",
              "                Run page: <a href=\"https://wandb.ai/macab/vision-transformer/runs/3g8ihl3q\" target=\"_blank\">https://wandb.ai/macab/vision-transformer/runs/3g8ihl3q</a><br/>\n",
              "                Run data is saved locally in <code>wandb/run-20201008_152812-3g8ihl3q</code><br/><br/>\n",
              "            "
            ],
            "text/plain": [
              "<IPython.core.display.HTML object>"
            ]
          },
          "metadata": {
            "tags": []
          }
        },
        {
          "output_type": "stream",
          "text": [
            "  0%|          | 1/250 [01:59<8:17:30, 119.88s/it]"
          ],
          "name": "stderr"
        },
        {
          "output_type": "stream",
          "text": [
            "EPOCH :0/250 | Train_acc: 0.0341 | Train_loss: 4.5470 | Val_loss: 4.4746 | Val_acc: 0.0430\n"
          ],
          "name": "stdout"
        },
        {
          "output_type": "stream",
          "text": [
            "\r  1%|          | 2/250 [04:00<8:16:50, 120.20s/it]"
          ],
          "name": "stderr"
        },
        {
          "output_type": "stream",
          "text": [
            "EPOCH :1/250 | Train_acc: 0.0598 | Train_loss: 4.4132 | Val_loss: 4.3546 | Val_acc: 0.0498\n"
          ],
          "name": "stdout"
        },
        {
          "output_type": "stream",
          "text": [
            "\r  1%|          | 3/250 [06:02<8:16:07, 120.52s/it]"
          ],
          "name": "stderr"
        },
        {
          "output_type": "stream",
          "text": [
            "EPOCH :2/250 | Train_acc: 0.0705 | Train_loss: 4.2559 | Val_loss: 4.1496 | Val_acc: 0.0732\n"
          ],
          "name": "stdout"
        },
        {
          "output_type": "stream",
          "text": [
            "\r  2%|▏         | 4/250 [08:02<8:14:20, 120.57s/it]"
          ],
          "name": "stderr"
        },
        {
          "output_type": "stream",
          "text": [
            "EPOCH :3/250 | Train_acc: 0.0932 | Train_loss: 4.0250 | Val_loss: 3.9261 | Val_acc: 0.0862\n"
          ],
          "name": "stdout"
        },
        {
          "output_type": "stream",
          "text": [
            "\r  2%|▏         | 5/250 [10:03<8:12:32, 120.62s/it]"
          ],
          "name": "stderr"
        },
        {
          "output_type": "stream",
          "text": [
            "EPOCH :4/250 | Train_acc: 0.1052 | Train_loss: 3.8034 | Val_loss: 3.7298 | Val_acc: 0.0990\n"
          ],
          "name": "stdout"
        },
        {
          "output_type": "stream",
          "text": [
            "\r  2%|▏         | 6/250 [12:04<8:10:48, 120.69s/it]"
          ],
          "name": "stderr"
        },
        {
          "output_type": "stream",
          "text": [
            "EPOCH :5/250 | Train_acc: 0.1221 | Train_loss: 3.6221 | Val_loss: 3.5865 | Val_acc: 0.1414\n"
          ],
          "name": "stdout"
        },
        {
          "output_type": "stream",
          "text": [
            "\r  3%|▎         | 7/250 [14:05<8:09:19, 120.82s/it]"
          ],
          "name": "stderr"
        },
        {
          "output_type": "stream",
          "text": [
            "EPOCH :6/250 | Train_acc: 0.1424 | Train_loss: 3.4854 | Val_loss: 3.4737 | Val_acc: 0.1544\n"
          ],
          "name": "stdout"
        },
        {
          "output_type": "stream",
          "text": [
            "\r  3%|▎         | 8/250 [16:06<8:07:37, 120.90s/it]"
          ],
          "name": "stderr"
        },
        {
          "output_type": "stream",
          "text": [
            "EPOCH :7/250 | Train_acc: 0.1684 | Train_loss: 3.3666 | Val_loss: 3.3801 | Val_acc: 0.1909\n"
          ],
          "name": "stdout"
        },
        {
          "output_type": "stream",
          "text": [
            "\r  4%|▎         | 9/250 [18:07<8:05:38, 120.90s/it]"
          ],
          "name": "stderr"
        },
        {
          "output_type": "stream",
          "text": [
            "EPOCH :8/250 | Train_acc: 0.1833 | Train_loss: 3.2638 | Val_loss: 3.2963 | Val_acc: 0.1998\n"
          ],
          "name": "stdout"
        },
        {
          "output_type": "stream",
          "text": [
            "\r  4%|▍         | 10/250 [20:08<8:03:46, 120.95s/it]"
          ],
          "name": "stderr"
        },
        {
          "output_type": "stream",
          "text": [
            "EPOCH :9/250 | Train_acc: 0.1964 | Train_loss: 3.1787 | Val_loss: 3.2409 | Val_acc: 0.2054\n"
          ],
          "name": "stdout"
        },
        {
          "output_type": "stream",
          "text": [
            "\r  4%|▍         | 11/250 [22:10<8:02:24, 121.11s/it]"
          ],
          "name": "stderr"
        },
        {
          "output_type": "stream",
          "text": [
            "EPOCH :10/250 | Train_acc: 0.2069 | Train_loss: 3.0951 | Val_loss: 3.1677 | Val_acc: 0.2072\n"
          ],
          "name": "stdout"
        },
        {
          "output_type": "stream",
          "text": [
            "\r  5%|▍         | 12/250 [24:11<8:00:39, 121.18s/it]"
          ],
          "name": "stderr"
        },
        {
          "output_type": "stream",
          "text": [
            "EPOCH :11/250 | Train_acc: 0.2254 | Train_loss: 3.0256 | Val_loss: 3.1018 | Val_acc: 0.2072\n"
          ],
          "name": "stdout"
        },
        {
          "output_type": "stream",
          "text": [
            "\r  5%|▌         | 13/250 [26:12<7:58:58, 121.26s/it]"
          ],
          "name": "stderr"
        },
        {
          "output_type": "stream",
          "text": [
            "EPOCH :12/250 | Train_acc: 0.2451 | Train_loss: 2.9558 | Val_loss: 3.0459 | Val_acc: 0.2126\n"
          ],
          "name": "stdout"
        },
        {
          "output_type": "stream",
          "text": [
            "\r  6%|▌         | 14/250 [28:14<7:57:27, 121.39s/it]"
          ],
          "name": "stderr"
        },
        {
          "output_type": "stream",
          "text": [
            "EPOCH :13/250 | Train_acc: 0.2631 | Train_loss: 2.8875 | Val_loss: 2.9651 | Val_acc: 0.2363\n"
          ],
          "name": "stdout"
        },
        {
          "output_type": "stream",
          "text": [
            "\r  6%|▌         | 15/250 [30:16<7:55:39, 121.45s/it]"
          ],
          "name": "stderr"
        },
        {
          "output_type": "stream",
          "text": [
            "EPOCH :14/250 | Train_acc: 0.2717 | Train_loss: 2.8210 | Val_loss: 2.9462 | Val_acc: 0.2397\n"
          ],
          "name": "stdout"
        },
        {
          "output_type": "stream",
          "text": [
            "\r  6%|▋         | 16/250 [32:17<7:53:21, 121.37s/it]"
          ],
          "name": "stderr"
        },
        {
          "output_type": "stream",
          "text": [
            "EPOCH :15/250 | Train_acc: 0.2832 | Train_loss: 2.7575 | Val_loss: 2.8934 | Val_acc: 0.2608\n"
          ],
          "name": "stdout"
        },
        {
          "output_type": "stream",
          "text": [
            "\r  7%|▋         | 17/250 [34:18<7:51:35, 121.44s/it]"
          ],
          "name": "stderr"
        },
        {
          "output_type": "stream",
          "text": [
            "EPOCH :16/250 | Train_acc: 0.3003 | Train_loss: 2.6954 | Val_loss: 2.8329 | Val_acc: 0.2891\n"
          ],
          "name": "stdout"
        },
        {
          "output_type": "stream",
          "text": [
            "\r  7%|▋         | 18/250 [36:20<7:49:28, 121.42s/it]"
          ],
          "name": "stderr"
        },
        {
          "output_type": "stream",
          "text": [
            "EPOCH :17/250 | Train_acc: 0.3145 | Train_loss: 2.6351 | Val_loss: 2.7872 | Val_acc: 0.2920\n"
          ],
          "name": "stdout"
        },
        {
          "output_type": "stream",
          "text": [
            "\r  8%|▊         | 19/250 [38:21<7:46:50, 121.26s/it]"
          ],
          "name": "stderr"
        },
        {
          "output_type": "stream",
          "text": [
            "EPOCH :18/250 | Train_acc: 0.3288 | Train_loss: 2.5767 | Val_loss: 2.7117 | Val_acc: 0.2929\n"
          ],
          "name": "stdout"
        },
        {
          "output_type": "stream",
          "text": [
            "\r  8%|▊         | 20/250 [40:21<7:44:16, 121.11s/it]"
          ],
          "name": "stderr"
        },
        {
          "output_type": "stream",
          "text": [
            "EPOCH :19/250 | Train_acc: 0.3381 | Train_loss: 2.5242 | Val_loss: 2.6673 | Val_acc: 0.3148\n"
          ],
          "name": "stdout"
        },
        {
          "output_type": "stream",
          "text": [
            "\r  8%|▊         | 21/250 [42:22<7:42:03, 121.06s/it]"
          ],
          "name": "stderr"
        },
        {
          "output_type": "stream",
          "text": [
            "EPOCH :20/250 | Train_acc: 0.3501 | Train_loss: 2.4691 | Val_loss: 2.6320 | Val_acc: 0.3305\n"
          ],
          "name": "stdout"
        },
        {
          "output_type": "stream",
          "text": [
            "\r  9%|▉         | 22/250 [44:24<7:40:18, 121.13s/it]"
          ],
          "name": "stderr"
        },
        {
          "output_type": "stream",
          "text": [
            "EPOCH :21/250 | Train_acc: 0.3608 | Train_loss: 2.4220 | Val_loss: 2.6016 | Val_acc: 0.3273\n"
          ],
          "name": "stdout"
        },
        {
          "output_type": "stream",
          "text": [
            "\r  9%|▉         | 23/250 [46:24<7:37:51, 121.02s/it]"
          ],
          "name": "stderr"
        },
        {
          "output_type": "stream",
          "text": [
            "EPOCH :22/250 | Train_acc: 0.3692 | Train_loss: 2.3743 | Val_loss: 2.5550 | Val_acc: 0.3194\n"
          ],
          "name": "stdout"
        },
        {
          "output_type": "stream",
          "text": [
            "\r 10%|▉         | 24/250 [48:25<7:35:44, 120.99s/it]"
          ],
          "name": "stderr"
        },
        {
          "output_type": "stream",
          "text": [
            "EPOCH :23/250 | Train_acc: 0.3783 | Train_loss: 2.3308 | Val_loss: 2.5108 | Val_acc: 0.3472\n"
          ],
          "name": "stdout"
        },
        {
          "output_type": "stream",
          "text": [
            "\r 10%|█         | 25/250 [50:26<7:33:39, 120.98s/it]"
          ],
          "name": "stderr"
        },
        {
          "output_type": "stream",
          "text": [
            "EPOCH :24/250 | Train_acc: 0.3837 | Train_loss: 2.2891 | Val_loss: 2.4942 | Val_acc: 0.3332\n"
          ],
          "name": "stdout"
        },
        {
          "output_type": "stream",
          "text": [
            "\r 10%|█         | 26/250 [52:27<7:31:09, 120.85s/it]"
          ],
          "name": "stderr"
        },
        {
          "output_type": "stream",
          "text": [
            "EPOCH :25/250 | Train_acc: 0.3955 | Train_loss: 2.2474 | Val_loss: 2.4616 | Val_acc: 0.3361\n"
          ],
          "name": "stdout"
        },
        {
          "output_type": "stream",
          "text": [
            "\r 11%|█         | 27/250 [54:28<7:29:10, 120.86s/it]"
          ],
          "name": "stderr"
        },
        {
          "output_type": "stream",
          "text": [
            "EPOCH :26/250 | Train_acc: 0.4045 | Train_loss: 2.2101 | Val_loss: 2.4260 | Val_acc: 0.3371\n"
          ],
          "name": "stdout"
        },
        {
          "output_type": "stream",
          "text": [
            "\r 11%|█         | 28/250 [56:29<7:27:23, 120.92s/it]"
          ],
          "name": "stderr"
        },
        {
          "output_type": "stream",
          "text": [
            "EPOCH :27/250 | Train_acc: 0.4097 | Train_loss: 2.1762 | Val_loss: 2.4006 | Val_acc: 0.3566\n"
          ],
          "name": "stdout"
        },
        {
          "output_type": "stream",
          "text": [
            "\r 12%|█▏        | 29/250 [58:30<7:25:34, 120.97s/it]"
          ],
          "name": "stderr"
        },
        {
          "output_type": "stream",
          "text": [
            "EPOCH :28/250 | Train_acc: 0.4205 | Train_loss: 2.1396 | Val_loss: 2.3936 | Val_acc: 0.3577\n"
          ],
          "name": "stdout"
        },
        {
          "output_type": "stream",
          "text": [
            "\r 12%|█▏        | 30/250 [1:00:31<7:23:32, 120.97s/it]"
          ],
          "name": "stderr"
        },
        {
          "output_type": "stream",
          "text": [
            "EPOCH :29/250 | Train_acc: 0.4167 | Train_loss: 2.1119 | Val_loss: 2.3461 | Val_acc: 0.3685\n"
          ],
          "name": "stdout"
        },
        {
          "output_type": "stream",
          "text": [
            "\r 12%|█▏        | 31/250 [1:02:32<7:21:34, 120.98s/it]"
          ],
          "name": "stderr"
        },
        {
          "output_type": "stream",
          "text": [
            "EPOCH :30/250 | Train_acc: 0.4325 | Train_loss: 2.0755 | Val_loss: 2.3554 | Val_acc: 0.3605\n"
          ],
          "name": "stdout"
        },
        {
          "output_type": "stream",
          "text": [
            "\r 13%|█▎        | 32/250 [1:04:33<7:19:46, 121.04s/it]"
          ],
          "name": "stderr"
        },
        {
          "output_type": "stream",
          "text": [
            "EPOCH :31/250 | Train_acc: 0.4387 | Train_loss: 2.0471 | Val_loss: 2.3218 | Val_acc: 0.3755\n"
          ],
          "name": "stdout"
        },
        {
          "output_type": "stream",
          "text": [
            "\r 13%|█▎        | 33/250 [1:06:34<7:17:54, 121.08s/it]"
          ],
          "name": "stderr"
        },
        {
          "output_type": "stream",
          "text": [
            "EPOCH :32/250 | Train_acc: 0.4469 | Train_loss: 2.0204 | Val_loss: 2.2662 | Val_acc: 0.3925\n"
          ],
          "name": "stdout"
        },
        {
          "output_type": "stream",
          "text": [
            "\r 14%|█▎        | 34/250 [1:08:35<7:15:40, 121.02s/it]"
          ],
          "name": "stderr"
        },
        {
          "output_type": "stream",
          "text": [
            "EPOCH :33/250 | Train_acc: 0.4516 | Train_loss: 1.9941 | Val_loss: 2.2941 | Val_acc: 0.3813\n"
          ],
          "name": "stdout"
        },
        {
          "output_type": "stream",
          "text": [
            "\r 14%|█▍        | 35/250 [1:10:36<7:13:43, 121.04s/it]"
          ],
          "name": "stderr"
        },
        {
          "output_type": "stream",
          "text": [
            "EPOCH :34/250 | Train_acc: 0.4607 | Train_loss: 1.9646 | Val_loss: 2.2619 | Val_acc: 0.3942\n"
          ],
          "name": "stdout"
        },
        {
          "output_type": "stream",
          "text": [
            "\r 14%|█▍        | 36/250 [1:12:37<7:11:55, 121.10s/it]"
          ],
          "name": "stderr"
        },
        {
          "output_type": "stream",
          "text": [
            "EPOCH :35/250 | Train_acc: 0.4649 | Train_loss: 1.9403 | Val_loss: 2.2580 | Val_acc: 0.4011\n"
          ],
          "name": "stdout"
        },
        {
          "output_type": "stream",
          "text": [
            "\r 15%|█▍        | 37/250 [1:14:38<7:09:36, 121.02s/it]"
          ],
          "name": "stderr"
        },
        {
          "output_type": "stream",
          "text": [
            "EPOCH :36/250 | Train_acc: 0.4697 | Train_loss: 1.9127 | Val_loss: 2.2423 | Val_acc: 0.3951\n"
          ],
          "name": "stdout"
        },
        {
          "output_type": "stream",
          "text": [
            "\r 15%|█▌        | 38/250 [1:16:39<7:07:07, 120.88s/it]"
          ],
          "name": "stderr"
        },
        {
          "output_type": "stream",
          "text": [
            "EPOCH :37/250 | Train_acc: 0.4783 | Train_loss: 1.8875 | Val_loss: 2.2165 | Val_acc: 0.4200\n"
          ],
          "name": "stdout"
        },
        {
          "output_type": "stream",
          "text": [
            "\r 16%|█▌        | 39/250 [1:18:39<7:04:33, 120.73s/it]"
          ],
          "name": "stderr"
        },
        {
          "output_type": "stream",
          "text": [
            "EPOCH :38/250 | Train_acc: 0.4826 | Train_loss: 1.8702 | Val_loss: 2.1922 | Val_acc: 0.4108\n"
          ],
          "name": "stdout"
        },
        {
          "output_type": "stream",
          "text": [
            "\r 16%|█▌        | 40/250 [1:20:40<7:02:35, 120.74s/it]"
          ],
          "name": "stderr"
        },
        {
          "output_type": "stream",
          "text": [
            "EPOCH :39/250 | Train_acc: 0.4914 | Train_loss: 1.8421 | Val_loss: 2.1911 | Val_acc: 0.3851\n"
          ],
          "name": "stdout"
        },
        {
          "output_type": "stream",
          "text": [
            "\r 16%|█▋        | 41/250 [1:22:40<7:00:16, 120.65s/it]"
          ],
          "name": "stderr"
        },
        {
          "output_type": "stream",
          "text": [
            "EPOCH :40/250 | Train_acc: 0.4983 | Train_loss: 1.8182 | Val_loss: 2.1894 | Val_acc: 0.4198\n"
          ],
          "name": "stdout"
        },
        {
          "output_type": "stream",
          "text": [
            "\r 17%|█▋        | 42/250 [1:24:41<6:58:25, 120.70s/it]"
          ],
          "name": "stderr"
        },
        {
          "output_type": "stream",
          "text": [
            "EPOCH :41/250 | Train_acc: 0.5056 | Train_loss: 1.8002 | Val_loss: 2.1795 | Val_acc: 0.4068\n"
          ],
          "name": "stdout"
        },
        {
          "output_type": "stream",
          "text": [
            "\r 17%|█▋        | 43/250 [1:26:42<6:56:49, 120.82s/it]"
          ],
          "name": "stderr"
        },
        {
          "output_type": "stream",
          "text": [
            "EPOCH :42/250 | Train_acc: 0.5094 | Train_loss: 1.7748 | Val_loss: 2.1668 | Val_acc: 0.4227\n"
          ],
          "name": "stdout"
        },
        {
          "output_type": "stream",
          "text": [
            "\r 18%|█▊        | 44/250 [1:28:43<6:54:43, 120.79s/it]"
          ],
          "name": "stderr"
        },
        {
          "output_type": "stream",
          "text": [
            "EPOCH :43/250 | Train_acc: 0.5135 | Train_loss: 1.7499 | Val_loss: 2.1672 | Val_acc: 0.4128\n"
          ],
          "name": "stdout"
        },
        {
          "output_type": "stream",
          "text": [
            "\r 18%|█▊        | 45/250 [1:30:44<6:52:32, 120.75s/it]"
          ],
          "name": "stderr"
        },
        {
          "output_type": "stream",
          "text": [
            "EPOCH :44/250 | Train_acc: 0.5230 | Train_loss: 1.7293 | Val_loss: 2.1650 | Val_acc: 0.4175\n"
          ],
          "name": "stdout"
        },
        {
          "output_type": "stream",
          "text": [
            "\r 18%|█▊        | 46/250 [1:32:44<6:50:33, 120.75s/it]"
          ],
          "name": "stderr"
        },
        {
          "output_type": "stream",
          "text": [
            "EPOCH :45/250 | Train_acc: 0.5298 | Train_loss: 1.7129 | Val_loss: 2.1423 | Val_acc: 0.4146\n"
          ],
          "name": "stdout"
        },
        {
          "output_type": "stream",
          "text": [
            "\r 19%|█▉        | 47/250 [1:34:45<6:48:28, 120.73s/it]"
          ],
          "name": "stderr"
        },
        {
          "output_type": "stream",
          "text": [
            "EPOCH :46/250 | Train_acc: 0.5357 | Train_loss: 1.6850 | Val_loss: 2.1304 | Val_acc: 0.4323\n"
          ],
          "name": "stdout"
        },
        {
          "output_type": "stream",
          "text": [
            "\r 19%|█▉        | 48/250 [1:36:45<6:45:58, 120.59s/it]"
          ],
          "name": "stderr"
        },
        {
          "output_type": "stream",
          "text": [
            "EPOCH :47/250 | Train_acc: 0.5385 | Train_loss: 1.6693 | Val_loss: 2.1138 | Val_acc: 0.4313\n"
          ],
          "name": "stdout"
        },
        {
          "output_type": "stream",
          "text": [
            "\r 20%|█▉        | 49/250 [1:38:46<6:44:19, 120.70s/it]"
          ],
          "name": "stderr"
        },
        {
          "output_type": "stream",
          "text": [
            "EPOCH :48/250 | Train_acc: 0.5503 | Train_loss: 1.6445 | Val_loss: 2.1005 | Val_acc: 0.4395\n"
          ],
          "name": "stdout"
        },
        {
          "output_type": "stream",
          "text": [
            "\r 20%|██        | 50/250 [1:40:47<6:42:49, 120.85s/it]"
          ],
          "name": "stderr"
        },
        {
          "output_type": "stream",
          "text": [
            "EPOCH :49/250 | Train_acc: 0.5484 | Train_loss: 1.6230 | Val_loss: 2.1184 | Val_acc: 0.4441\n"
          ],
          "name": "stdout"
        },
        {
          "output_type": "stream",
          "text": [
            "\r 20%|██        | 51/250 [1:42:48<6:40:58, 120.90s/it]"
          ],
          "name": "stderr"
        },
        {
          "output_type": "stream",
          "text": [
            "EPOCH :50/250 | Train_acc: 0.5560 | Train_loss: 1.6077 | Val_loss: 2.1092 | Val_acc: 0.4373\n"
          ],
          "name": "stdout"
        },
        {
          "output_type": "stream",
          "text": [
            "\r 21%|██        | 52/250 [1:44:49<6:39:02, 120.92s/it]"
          ],
          "name": "stderr"
        },
        {
          "output_type": "stream",
          "text": [
            "EPOCH :51/250 | Train_acc: 0.5603 | Train_loss: 1.5840 | Val_loss: 2.1049 | Val_acc: 0.4423\n"
          ],
          "name": "stdout"
        },
        {
          "output_type": "stream",
          "text": [
            "\r 21%|██        | 53/250 [1:46:50<6:37:04, 120.94s/it]"
          ],
          "name": "stderr"
        },
        {
          "output_type": "stream",
          "text": [
            "EPOCH :52/250 | Train_acc: 0.5634 | Train_loss: 1.5656 | Val_loss: 2.0715 | Val_acc: 0.4630\n"
          ],
          "name": "stdout"
        },
        {
          "output_type": "stream",
          "text": [
            "\r 22%|██▏       | 54/250 [1:48:51<6:35:05, 120.94s/it]"
          ],
          "name": "stderr"
        },
        {
          "output_type": "stream",
          "text": [
            "EPOCH :53/250 | Train_acc: 0.5735 | Train_loss: 1.5455 | Val_loss: 2.0700 | Val_acc: 0.4461\n"
          ],
          "name": "stdout"
        },
        {
          "output_type": "stream",
          "text": [
            "\r 22%|██▏       | 55/250 [1:50:53<6:33:33, 121.09s/it]"
          ],
          "name": "stderr"
        },
        {
          "output_type": "stream",
          "text": [
            "EPOCH :54/250 | Train_acc: 0.5791 | Train_loss: 1.5275 | Val_loss: 2.0538 | Val_acc: 0.4621\n"
          ],
          "name": "stdout"
        },
        {
          "output_type": "stream",
          "text": [
            "\r 22%|██▏       | 56/250 [1:52:54<6:31:16, 121.01s/it]"
          ],
          "name": "stderr"
        },
        {
          "output_type": "stream",
          "text": [
            "EPOCH :55/250 | Train_acc: 0.5871 | Train_loss: 1.5102 | Val_loss: 2.0634 | Val_acc: 0.4471\n"
          ],
          "name": "stdout"
        },
        {
          "output_type": "stream",
          "text": [
            "\r 23%|██▎       | 57/250 [1:54:55<6:29:41, 121.15s/it]"
          ],
          "name": "stderr"
        },
        {
          "output_type": "stream",
          "text": [
            "EPOCH :56/250 | Train_acc: 0.5906 | Train_loss: 1.4898 | Val_loss: 2.0684 | Val_acc: 0.4470\n"
          ],
          "name": "stdout"
        },
        {
          "output_type": "stream",
          "text": [
            "\r 23%|██▎       | 58/250 [1:56:56<6:27:41, 121.15s/it]"
          ],
          "name": "stderr"
        },
        {
          "output_type": "stream",
          "text": [
            "EPOCH :57/250 | Train_acc: 0.5908 | Train_loss: 1.4703 | Val_loss: 2.0876 | Val_acc: 0.4488\n"
          ],
          "name": "stdout"
        },
        {
          "output_type": "stream",
          "text": [
            "\r 24%|██▎       | 59/250 [1:58:57<6:25:24, 121.07s/it]"
          ],
          "name": "stderr"
        },
        {
          "output_type": "stream",
          "text": [
            "EPOCH :58/250 | Train_acc: 0.6005 | Train_loss: 1.4516 | Val_loss: 2.0494 | Val_acc: 0.4696\n"
          ],
          "name": "stdout"
        },
        {
          "output_type": "stream",
          "text": [
            "\r 24%|██▍       | 60/250 [2:00:59<6:23:49, 121.21s/it]"
          ],
          "name": "stderr"
        },
        {
          "output_type": "stream",
          "text": [
            "EPOCH :59/250 | Train_acc: 0.6085 | Train_loss: 1.4300 | Val_loss: 2.0493 | Val_acc: 0.4548\n"
          ],
          "name": "stdout"
        },
        {
          "output_type": "stream",
          "text": [
            "\r 24%|██▍       | 61/250 [2:03:00<6:21:38, 121.16s/it]"
          ],
          "name": "stderr"
        },
        {
          "output_type": "stream",
          "text": [
            "EPOCH :60/250 | Train_acc: 0.6047 | Train_loss: 1.4158 | Val_loss: 2.0574 | Val_acc: 0.4638\n"
          ],
          "name": "stdout"
        },
        {
          "output_type": "stream",
          "text": [
            "\r 25%|██▍       | 62/250 [2:05:01<6:19:17, 121.05s/it]"
          ],
          "name": "stderr"
        },
        {
          "output_type": "stream",
          "text": [
            "EPOCH :61/250 | Train_acc: 0.6172 | Train_loss: 1.3949 | Val_loss: 2.0141 | Val_acc: 0.4638\n"
          ],
          "name": "stdout"
        },
        {
          "output_type": "stream",
          "text": [
            "\r 25%|██▌       | 63/250 [2:07:01<6:16:45, 120.89s/it]"
          ],
          "name": "stderr"
        },
        {
          "output_type": "stream",
          "text": [
            "EPOCH :62/250 | Train_acc: 0.6216 | Train_loss: 1.3796 | Val_loss: 2.0464 | Val_acc: 0.4499\n"
          ],
          "name": "stdout"
        },
        {
          "output_type": "stream",
          "text": [
            "\r 26%|██▌       | 64/250 [2:09:01<6:14:09, 120.70s/it]"
          ],
          "name": "stderr"
        },
        {
          "output_type": "stream",
          "text": [
            "EPOCH :63/250 | Train_acc: 0.6299 | Train_loss: 1.3575 | Val_loss: 2.0418 | Val_acc: 0.4596\n"
          ],
          "name": "stdout"
        },
        {
          "output_type": "stream",
          "text": [
            "\r 26%|██▌       | 65/250 [2:11:02<6:12:21, 120.77s/it]"
          ],
          "name": "stderr"
        },
        {
          "output_type": "stream",
          "text": [
            "EPOCH :64/250 | Train_acc: 0.6272 | Train_loss: 1.3445 | Val_loss: 2.0426 | Val_acc: 0.4437\n"
          ],
          "name": "stdout"
        },
        {
          "output_type": "stream",
          "text": [
            "\r 26%|██▋       | 66/250 [2:13:03<6:10:13, 120.72s/it]"
          ],
          "name": "stderr"
        },
        {
          "output_type": "stream",
          "text": [
            "EPOCH :65/250 | Train_acc: 0.6362 | Train_loss: 1.3258 | Val_loss: 2.0218 | Val_acc: 0.4688\n"
          ],
          "name": "stdout"
        },
        {
          "output_type": "stream",
          "text": [
            "\r 27%|██▋       | 67/250 [2:15:03<6:07:55, 120.63s/it]"
          ],
          "name": "stderr"
        },
        {
          "output_type": "stream",
          "text": [
            "EPOCH :66/250 | Train_acc: 0.6438 | Train_loss: 1.3041 | Val_loss: 2.0297 | Val_acc: 0.4676\n"
          ],
          "name": "stdout"
        },
        {
          "output_type": "stream",
          "text": [
            "\r 27%|██▋       | 68/250 [2:17:04<6:05:49, 120.60s/it]"
          ],
          "name": "stderr"
        },
        {
          "output_type": "stream",
          "text": [
            "EPOCH :67/250 | Train_acc: 0.6469 | Train_loss: 1.2915 | Val_loss: 2.0215 | Val_acc: 0.4636\n"
          ],
          "name": "stdout"
        },
        {
          "output_type": "stream",
          "text": [
            "\r 28%|██▊       | 69/250 [2:19:05<6:03:54, 120.63s/it]"
          ],
          "name": "stderr"
        },
        {
          "output_type": "stream",
          "text": [
            "EPOCH :68/250 | Train_acc: 0.6551 | Train_loss: 1.2682 | Val_loss: 1.9889 | Val_acc: 0.4836\n"
          ],
          "name": "stdout"
        },
        {
          "output_type": "stream",
          "text": [
            "\r 28%|██▊       | 70/250 [2:21:05<6:01:40, 120.56s/it]"
          ],
          "name": "stderr"
        },
        {
          "output_type": "stream",
          "text": [
            "EPOCH :69/250 | Train_acc: 0.6553 | Train_loss: 1.2561 | Val_loss: 2.0273 | Val_acc: 0.4595\n"
          ],
          "name": "stdout"
        },
        {
          "output_type": "stream",
          "text": [
            "\r 28%|██▊       | 71/250 [2:23:05<5:59:35, 120.53s/it]"
          ],
          "name": "stderr"
        },
        {
          "output_type": "stream",
          "text": [
            "EPOCH :70/250 | Train_acc: 0.6668 | Train_loss: 1.2415 | Val_loss: 2.0167 | Val_acc: 0.4736\n"
          ],
          "name": "stdout"
        },
        {
          "output_type": "stream",
          "text": [
            "\r 29%|██▉       | 72/250 [2:25:06<5:57:37, 120.55s/it]"
          ],
          "name": "stderr"
        },
        {
          "output_type": "stream",
          "text": [
            "EPOCH :71/250 | Train_acc: 0.6687 | Train_loss: 1.2199 | Val_loss: 2.0094 | Val_acc: 0.4725\n"
          ],
          "name": "stdout"
        },
        {
          "output_type": "stream",
          "text": [
            "\r 29%|██▉       | 73/250 [2:27:06<5:55:36, 120.54s/it]"
          ],
          "name": "stderr"
        },
        {
          "output_type": "stream",
          "text": [
            "EPOCH :72/250 | Train_acc: 0.6780 | Train_loss: 1.2053 | Val_loss: 2.0014 | Val_acc: 0.4726\n"
          ],
          "name": "stdout"
        },
        {
          "output_type": "stream",
          "text": [
            "\r 30%|██▉       | 74/250 [2:29:07<5:53:26, 120.49s/it]"
          ],
          "name": "stderr"
        },
        {
          "output_type": "stream",
          "text": [
            "EPOCH :73/250 | Train_acc: 0.6803 | Train_loss: 1.1866 | Val_loss: 1.9969 | Val_acc: 0.4794\n"
          ],
          "name": "stdout"
        },
        {
          "output_type": "stream",
          "text": [
            "\r 30%|███       | 75/250 [2:31:07<5:51:24, 120.48s/it]"
          ],
          "name": "stderr"
        },
        {
          "output_type": "stream",
          "text": [
            "EPOCH :74/250 | Train_acc: 0.6829 | Train_loss: 1.1696 | Val_loss: 1.9915 | Val_acc: 0.4866\n"
          ],
          "name": "stdout"
        },
        {
          "output_type": "stream",
          "text": [
            "\r 30%|███       | 76/250 [2:33:08<5:49:17, 120.45s/it]"
          ],
          "name": "stderr"
        },
        {
          "output_type": "stream",
          "text": [
            "EPOCH :75/250 | Train_acc: 0.6900 | Train_loss: 1.1597 | Val_loss: 1.9973 | Val_acc: 0.4786\n"
          ],
          "name": "stdout"
        },
        {
          "output_type": "stream",
          "text": [
            "\r 31%|███       | 77/250 [2:35:08<5:47:19, 120.46s/it]"
          ],
          "name": "stderr"
        },
        {
          "output_type": "stream",
          "text": [
            "EPOCH :76/250 | Train_acc: 0.6939 | Train_loss: 1.1402 | Val_loss: 1.9835 | Val_acc: 0.4973\n"
          ],
          "name": "stdout"
        },
        {
          "output_type": "stream",
          "text": [
            "\r 31%|███       | 78/250 [2:37:09<5:45:23, 120.49s/it]"
          ],
          "name": "stderr"
        },
        {
          "output_type": "stream",
          "text": [
            "EPOCH :77/250 | Train_acc: 0.6983 | Train_loss: 1.1231 | Val_loss: 1.9874 | Val_acc: 0.4783\n"
          ],
          "name": "stdout"
        },
        {
          "output_type": "stream",
          "text": [
            "\r 32%|███▏      | 79/250 [2:39:09<5:43:32, 120.54s/it]"
          ],
          "name": "stderr"
        },
        {
          "output_type": "stream",
          "text": [
            "EPOCH :78/250 | Train_acc: 0.7037 | Train_loss: 1.1046 | Val_loss: 1.9906 | Val_acc: 0.4813\n"
          ],
          "name": "stdout"
        },
        {
          "output_type": "stream",
          "text": [
            "\r 32%|███▏      | 80/250 [2:41:10<5:41:45, 120.62s/it]"
          ],
          "name": "stderr"
        },
        {
          "output_type": "stream",
          "text": [
            "EPOCH :79/250 | Train_acc: 0.7091 | Train_loss: 1.0896 | Val_loss: 1.9988 | Val_acc: 0.4822\n"
          ],
          "name": "stdout"
        },
        {
          "output_type": "stream",
          "text": [
            "\r 32%|███▏      | 81/250 [2:43:11<5:39:43, 120.61s/it]"
          ],
          "name": "stderr"
        },
        {
          "output_type": "stream",
          "text": [
            "EPOCH :80/250 | Train_acc: 0.7126 | Train_loss: 1.0731 | Val_loss: 1.9704 | Val_acc: 0.4893\n"
          ],
          "name": "stdout"
        },
        {
          "output_type": "stream",
          "text": [
            "\r 33%|███▎      | 82/250 [2:45:12<5:37:51, 120.66s/it]"
          ],
          "name": "stderr"
        },
        {
          "output_type": "stream",
          "text": [
            "EPOCH :81/250 | Train_acc: 0.7140 | Train_loss: 1.0606 | Val_loss: 1.9966 | Val_acc: 0.4773\n"
          ],
          "name": "stdout"
        },
        {
          "output_type": "stream",
          "text": [
            "\r 33%|███▎      | 83/250 [2:47:12<5:35:50, 120.66s/it]"
          ],
          "name": "stderr"
        },
        {
          "output_type": "stream",
          "text": [
            "EPOCH :82/250 | Train_acc: 0.7218 | Train_loss: 1.0466 | Val_loss: 2.0114 | Val_acc: 0.4802\n"
          ],
          "name": "stdout"
        },
        {
          "output_type": "stream",
          "text": [
            "\r 34%|███▎      | 84/250 [2:49:13<5:33:57, 120.71s/it]"
          ],
          "name": "stderr"
        },
        {
          "output_type": "stream",
          "text": [
            "EPOCH :83/250 | Train_acc: 0.7235 | Train_loss: 1.0349 | Val_loss: 1.9894 | Val_acc: 0.4961\n"
          ],
          "name": "stdout"
        },
        {
          "output_type": "stream",
          "text": [
            "\r 34%|███▍      | 85/250 [2:51:14<5:31:46, 120.64s/it]"
          ],
          "name": "stderr"
        },
        {
          "output_type": "stream",
          "text": [
            "EPOCH :84/250 | Train_acc: 0.7263 | Train_loss: 1.0152 | Val_loss: 1.9994 | Val_acc: 0.4981\n"
          ],
          "name": "stdout"
        },
        {
          "output_type": "stream",
          "text": [
            "\r 34%|███▍      | 86/250 [2:53:14<5:29:56, 120.71s/it]"
          ],
          "name": "stderr"
        },
        {
          "output_type": "stream",
          "text": [
            "EPOCH :85/250 | Train_acc: 0.7332 | Train_loss: 0.9981 | Val_loss: 1.9977 | Val_acc: 0.4943\n"
          ],
          "name": "stdout"
        },
        {
          "output_type": "stream",
          "text": [
            "\r 35%|███▍      | 87/250 [2:55:15<5:27:52, 120.69s/it]"
          ],
          "name": "stderr"
        },
        {
          "output_type": "stream",
          "text": [
            "EPOCH :86/250 | Train_acc: 0.7379 | Train_loss: 0.9870 | Val_loss: 2.0141 | Val_acc: 0.4872\n"
          ],
          "name": "stdout"
        },
        {
          "output_type": "stream",
          "text": [
            "\r 35%|███▌      | 88/250 [2:57:16<5:25:44, 120.64s/it]"
          ],
          "name": "stderr"
        },
        {
          "output_type": "stream",
          "text": [
            "EPOCH :87/250 | Train_acc: 0.7382 | Train_loss: 0.9701 | Val_loss: 2.0005 | Val_acc: 0.4792\n"
          ],
          "name": "stdout"
        },
        {
          "output_type": "stream",
          "text": [
            "\r 36%|███▌      | 89/250 [2:59:16<5:23:47, 120.67s/it]"
          ],
          "name": "stderr"
        },
        {
          "output_type": "stream",
          "text": [
            "EPOCH :88/250 | Train_acc: 0.7468 | Train_loss: 0.9622 | Val_loss: 2.0008 | Val_acc: 0.4883\n"
          ],
          "name": "stdout"
        },
        {
          "output_type": "stream",
          "text": [
            "\r 36%|███▌      | 90/250 [3:01:17<5:21:52, 120.70s/it]"
          ],
          "name": "stderr"
        },
        {
          "output_type": "stream",
          "text": [
            "EPOCH :89/250 | Train_acc: 0.7508 | Train_loss: 0.9436 | Val_loss: 2.0042 | Val_acc: 0.4963\n"
          ],
          "name": "stdout"
        },
        {
          "output_type": "stream",
          "text": [
            "\r 36%|███▋      | 91/250 [3:03:18<5:20:02, 120.77s/it]"
          ],
          "name": "stderr"
        },
        {
          "output_type": "stream",
          "text": [
            "EPOCH :90/250 | Train_acc: 0.7502 | Train_loss: 0.9300 | Val_loss: 2.0091 | Val_acc: 0.4903\n"
          ],
          "name": "stdout"
        },
        {
          "output_type": "stream",
          "text": [
            "\r 37%|███▋      | 92/250 [3:05:19<5:17:50, 120.70s/it]"
          ],
          "name": "stderr"
        },
        {
          "output_type": "stream",
          "text": [
            "EPOCH :91/250 | Train_acc: 0.7528 | Train_loss: 0.9218 | Val_loss: 2.0253 | Val_acc: 0.4873\n"
          ],
          "name": "stdout"
        },
        {
          "output_type": "stream",
          "text": [
            "\r 37%|███▋      | 93/250 [3:07:19<5:15:58, 120.76s/it]"
          ],
          "name": "stderr"
        },
        {
          "output_type": "stream",
          "text": [
            "EPOCH :92/250 | Train_acc: 0.7640 | Train_loss: 0.9053 | Val_loss: 2.0352 | Val_acc: 0.5060\n"
          ],
          "name": "stdout"
        },
        {
          "output_type": "stream",
          "text": [
            "\r 38%|███▊      | 94/250 [3:09:20<5:14:01, 120.78s/it]"
          ],
          "name": "stderr"
        },
        {
          "output_type": "stream",
          "text": [
            "EPOCH :93/250 | Train_acc: 0.7691 | Train_loss: 0.8877 | Val_loss: 2.0101 | Val_acc: 0.4952\n"
          ],
          "name": "stdout"
        },
        {
          "output_type": "stream",
          "text": [
            "\r 38%|███▊      | 95/250 [3:11:21<5:11:51, 120.72s/it]"
          ],
          "name": "stderr"
        },
        {
          "output_type": "stream",
          "text": [
            "EPOCH :94/250 | Train_acc: 0.7715 | Train_loss: 0.8749 | Val_loss: 2.0156 | Val_acc: 0.4772\n"
          ],
          "name": "stdout"
        },
        {
          "output_type": "stream",
          "text": [
            "\r 38%|███▊      | 96/250 [3:13:21<5:09:42, 120.67s/it]"
          ],
          "name": "stderr"
        },
        {
          "output_type": "stream",
          "text": [
            "EPOCH :95/250 | Train_acc: 0.7768 | Train_loss: 0.8621 | Val_loss: 2.0224 | Val_acc: 0.4813\n"
          ],
          "name": "stdout"
        },
        {
          "output_type": "stream",
          "text": [
            "\r 39%|███▉      | 97/250 [3:15:22<5:07:52, 120.74s/it]"
          ],
          "name": "stderr"
        },
        {
          "output_type": "stream",
          "text": [
            "EPOCH :96/250 | Train_acc: 0.7820 | Train_loss: 0.8473 | Val_loss: 2.0389 | Val_acc: 0.4910\n"
          ],
          "name": "stdout"
        },
        {
          "output_type": "stream",
          "text": [
            "\r 39%|███▉      | 98/250 [3:17:23<5:05:52, 120.74s/it]"
          ],
          "name": "stderr"
        },
        {
          "output_type": "stream",
          "text": [
            "EPOCH :97/250 | Train_acc: 0.7740 | Train_loss: 0.8432 | Val_loss: 2.0501 | Val_acc: 0.4603\n"
          ],
          "name": "stdout"
        },
        {
          "output_type": "stream",
          "text": [
            "\r 40%|███▉      | 99/250 [3:19:24<5:03:59, 120.79s/it]"
          ],
          "name": "stderr"
        },
        {
          "output_type": "stream",
          "text": [
            "EPOCH :98/250 | Train_acc: 0.7853 | Train_loss: 0.8269 | Val_loss: 2.0372 | Val_acc: 0.4899\n"
          ],
          "name": "stdout"
        },
        {
          "output_type": "stream",
          "text": [
            "\r 40%|████      | 100/250 [3:21:25<5:02:00, 120.81s/it]"
          ],
          "name": "stderr"
        },
        {
          "output_type": "stream",
          "text": [
            "EPOCH :99/250 | Train_acc: 0.7883 | Train_loss: 0.8092 | Val_loss: 2.0248 | Val_acc: 0.4970\n"
          ],
          "name": "stdout"
        },
        {
          "output_type": "stream",
          "text": [
            "\r 40%|████      | 101/250 [3:23:25<4:59:50, 120.74s/it]"
          ],
          "name": "stderr"
        },
        {
          "output_type": "stream",
          "text": [
            "EPOCH :100/250 | Train_acc: 0.7930 | Train_loss: 0.7985 | Val_loss: 2.0536 | Val_acc: 0.4891\n"
          ],
          "name": "stdout"
        },
        {
          "output_type": "stream",
          "text": [
            "\r 41%|████      | 102/250 [3:25:26<4:57:45, 120.71s/it]"
          ],
          "name": "stderr"
        },
        {
          "output_type": "stream",
          "text": [
            "EPOCH :101/250 | Train_acc: 0.7957 | Train_loss: 0.7883 | Val_loss: 2.0486 | Val_acc: 0.4939\n"
          ],
          "name": "stdout"
        },
        {
          "output_type": "stream",
          "text": [
            "\r 41%|████      | 103/250 [3:27:27<4:55:57, 120.80s/it]"
          ],
          "name": "stderr"
        },
        {
          "output_type": "stream",
          "text": [
            "EPOCH :102/250 | Train_acc: 0.8018 | Train_loss: 0.7723 | Val_loss: 2.0842 | Val_acc: 0.4722\n"
          ],
          "name": "stdout"
        },
        {
          "output_type": "stream",
          "text": [
            "\r 42%|████▏     | 104/250 [3:29:28<4:54:01, 120.83s/it]"
          ],
          "name": "stderr"
        },
        {
          "output_type": "stream",
          "text": [
            "EPOCH :103/250 | Train_acc: 0.8011 | Train_loss: 0.7606 | Val_loss: 2.0476 | Val_acc: 0.4821\n"
          ],
          "name": "stdout"
        },
        {
          "output_type": "stream",
          "text": [
            "\r 42%|████▏     | 105/250 [3:31:28<4:51:37, 120.67s/it]"
          ],
          "name": "stderr"
        },
        {
          "output_type": "stream",
          "text": [
            "EPOCH :104/250 | Train_acc: 0.8087 | Train_loss: 0.7523 | Val_loss: 2.0703 | Val_acc: 0.4739\n"
          ],
          "name": "stdout"
        },
        {
          "output_type": "stream",
          "text": [
            "\r 42%|████▏     | 106/250 [3:33:29<4:49:42, 120.71s/it]"
          ],
          "name": "stderr"
        },
        {
          "output_type": "stream",
          "text": [
            "EPOCH :105/250 | Train_acc: 0.8119 | Train_loss: 0.7355 | Val_loss: 2.0553 | Val_acc: 0.4870\n"
          ],
          "name": "stdout"
        },
        {
          "output_type": "stream",
          "text": [
            "\r 43%|████▎     | 107/250 [3:35:30<4:47:30, 120.63s/it]"
          ],
          "name": "stderr"
        },
        {
          "output_type": "stream",
          "text": [
            "EPOCH :106/250 | Train_acc: 0.8110 | Train_loss: 0.7245 | Val_loss: 2.0885 | Val_acc: 0.4862\n"
          ],
          "name": "stdout"
        },
        {
          "output_type": "stream",
          "text": [
            "\r 43%|████▎     | 108/250 [3:37:30<4:45:37, 120.69s/it]"
          ],
          "name": "stderr"
        },
        {
          "output_type": "stream",
          "text": [
            "EPOCH :107/250 | Train_acc: 0.8211 | Train_loss: 0.7155 | Val_loss: 2.0855 | Val_acc: 0.4852\n"
          ],
          "name": "stdout"
        },
        {
          "output_type": "stream",
          "text": [
            "\r 44%|████▎     | 109/250 [3:39:31<4:43:53, 120.81s/it]"
          ],
          "name": "stderr"
        },
        {
          "output_type": "stream",
          "text": [
            "EPOCH :108/250 | Train_acc: 0.8192 | Train_loss: 0.7058 | Val_loss: 2.0955 | Val_acc: 0.4811\n"
          ],
          "name": "stdout"
        },
        {
          "output_type": "stream",
          "text": [
            "\r 44%|████▍     | 110/250 [3:41:32<4:41:55, 120.82s/it]"
          ],
          "name": "stderr"
        },
        {
          "output_type": "stream",
          "text": [
            "EPOCH :109/250 | Train_acc: 0.8237 | Train_loss: 0.6956 | Val_loss: 2.0787 | Val_acc: 0.4921\n"
          ],
          "name": "stdout"
        },
        {
          "output_type": "stream",
          "text": [
            "\r 44%|████▍     | 111/250 [3:43:33<4:39:52, 120.81s/it]"
          ],
          "name": "stderr"
        },
        {
          "output_type": "stream",
          "text": [
            "EPOCH :110/250 | Train_acc: 0.8255 | Train_loss: 0.6807 | Val_loss: 2.0974 | Val_acc: 0.4999\n"
          ],
          "name": "stdout"
        },
        {
          "output_type": "stream",
          "text": [
            "\r 45%|████▍     | 112/250 [3:45:34<4:37:50, 120.80s/it]"
          ],
          "name": "stderr"
        },
        {
          "output_type": "stream",
          "text": [
            "EPOCH :111/250 | Train_acc: 0.8331 | Train_loss: 0.6718 | Val_loss: 2.0741 | Val_acc: 0.5009\n"
          ],
          "name": "stdout"
        },
        {
          "output_type": "stream",
          "text": [
            "\r 45%|████▌     | 113/250 [3:47:35<4:35:47, 120.79s/it]"
          ],
          "name": "stderr"
        },
        {
          "output_type": "stream",
          "text": [
            "EPOCH :112/250 | Train_acc: 0.8341 | Train_loss: 0.6604 | Val_loss: 2.1259 | Val_acc: 0.4821\n"
          ],
          "name": "stdout"
        },
        {
          "output_type": "stream",
          "text": [
            "\r 46%|████▌     | 114/250 [3:49:35<4:33:44, 120.77s/it]"
          ],
          "name": "stderr"
        },
        {
          "output_type": "stream",
          "text": [
            "EPOCH :113/250 | Train_acc: 0.8355 | Train_loss: 0.6474 | Val_loss: 2.0864 | Val_acc: 0.4989\n"
          ],
          "name": "stdout"
        },
        {
          "output_type": "stream",
          "text": [
            "\r 46%|████▌     | 115/250 [3:51:36<4:31:41, 120.75s/it]"
          ],
          "name": "stderr"
        },
        {
          "output_type": "stream",
          "text": [
            "EPOCH :114/250 | Train_acc: 0.8394 | Train_loss: 0.6338 | Val_loss: 2.1166 | Val_acc: 0.4870\n"
          ],
          "name": "stdout"
        },
        {
          "output_type": "stream",
          "text": [
            "\r 46%|████▋     | 116/250 [3:53:37<4:29:34, 120.71s/it]"
          ],
          "name": "stderr"
        },
        {
          "output_type": "stream",
          "text": [
            "EPOCH :115/250 | Train_acc: 0.8453 | Train_loss: 0.6224 | Val_loss: 2.1240 | Val_acc: 0.4872\n"
          ],
          "name": "stdout"
        },
        {
          "output_type": "stream",
          "text": [
            "\r 47%|████▋     | 117/250 [3:55:37<4:27:30, 120.68s/it]"
          ],
          "name": "stderr"
        },
        {
          "output_type": "stream",
          "text": [
            "EPOCH :116/250 | Train_acc: 0.8465 | Train_loss: 0.6148 | Val_loss: 2.1599 | Val_acc: 0.4899\n"
          ],
          "name": "stdout"
        },
        {
          "output_type": "stream",
          "text": [
            "\r 47%|████▋     | 118/250 [3:57:38<4:25:31, 120.69s/it]"
          ],
          "name": "stderr"
        },
        {
          "output_type": "stream",
          "text": [
            "EPOCH :117/250 | Train_acc: 0.8515 | Train_loss: 0.6053 | Val_loss: 2.1527 | Val_acc: 0.4781\n"
          ],
          "name": "stdout"
        },
        {
          "output_type": "stream",
          "text": [
            "\r 48%|████▊     | 119/250 [3:59:39<4:23:40, 120.77s/it]"
          ],
          "name": "stderr"
        },
        {
          "output_type": "stream",
          "text": [
            "EPOCH :118/250 | Train_acc: 0.8564 | Train_loss: 0.5926 | Val_loss: 2.1720 | Val_acc: 0.4810\n"
          ],
          "name": "stdout"
        },
        {
          "output_type": "stream",
          "text": [
            "\r 48%|████▊     | 120/250 [4:01:40<4:21:33, 120.72s/it]"
          ],
          "name": "stderr"
        },
        {
          "output_type": "stream",
          "text": [
            "EPOCH :119/250 | Train_acc: 0.8621 | Train_loss: 0.5812 | Val_loss: 2.1336 | Val_acc: 0.4849\n"
          ],
          "name": "stdout"
        },
        {
          "output_type": "stream",
          "text": [
            "\r 48%|████▊     | 121/250 [4:03:40<4:19:37, 120.75s/it]"
          ],
          "name": "stderr"
        },
        {
          "output_type": "stream",
          "text": [
            "EPOCH :120/250 | Train_acc: 0.8597 | Train_loss: 0.5720 | Val_loss: 2.1962 | Val_acc: 0.4772\n"
          ],
          "name": "stdout"
        },
        {
          "output_type": "stream",
          "text": [
            "\r 49%|████▉     | 122/250 [4:05:41<4:17:38, 120.77s/it]"
          ],
          "name": "stderr"
        },
        {
          "output_type": "stream",
          "text": [
            "EPOCH :121/250 | Train_acc: 0.8656 | Train_loss: 0.5633 | Val_loss: 2.1835 | Val_acc: 0.4860\n"
          ],
          "name": "stdout"
        },
        {
          "output_type": "stream",
          "text": [
            "\r 49%|████▉     | 123/250 [4:07:42<4:15:28, 120.70s/it]"
          ],
          "name": "stderr"
        },
        {
          "output_type": "stream",
          "text": [
            "EPOCH :122/250 | Train_acc: 0.8653 | Train_loss: 0.5558 | Val_loss: 2.1978 | Val_acc: 0.4692\n"
          ],
          "name": "stdout"
        },
        {
          "output_type": "stream",
          "text": [
            "\r 50%|████▉     | 124/250 [4:09:42<4:13:32, 120.73s/it]"
          ],
          "name": "stderr"
        },
        {
          "output_type": "stream",
          "text": [
            "EPOCH :123/250 | Train_acc: 0.8720 | Train_loss: 0.5450 | Val_loss: 2.2013 | Val_acc: 0.4791\n"
          ],
          "name": "stdout"
        },
        {
          "output_type": "stream",
          "text": [
            "\r 50%|█████     | 125/250 [4:11:43<4:11:39, 120.79s/it]"
          ],
          "name": "stderr"
        },
        {
          "output_type": "stream",
          "text": [
            "EPOCH :124/250 | Train_acc: 0.8767 | Train_loss: 0.5315 | Val_loss: 2.1749 | Val_acc: 0.4841\n"
          ],
          "name": "stdout"
        },
        {
          "output_type": "stream",
          "text": [
            "\r 50%|█████     | 126/250 [4:13:44<4:09:34, 120.76s/it]"
          ],
          "name": "stderr"
        },
        {
          "output_type": "stream",
          "text": [
            "EPOCH :125/250 | Train_acc: 0.8755 | Train_loss: 0.5239 | Val_loss: 2.2236 | Val_acc: 0.4870\n"
          ],
          "name": "stdout"
        },
        {
          "output_type": "stream",
          "text": [
            "\r 51%|█████     | 127/250 [4:15:45<4:07:37, 120.79s/it]"
          ],
          "name": "stderr"
        },
        {
          "output_type": "stream",
          "text": [
            "EPOCH :126/250 | Train_acc: 0.8801 | Train_loss: 0.5152 | Val_loss: 2.2312 | Val_acc: 0.4781\n"
          ],
          "name": "stdout"
        },
        {
          "output_type": "stream",
          "text": [
            "\r 51%|█████     | 128/250 [4:17:45<4:05:17, 120.64s/it]"
          ],
          "name": "stderr"
        },
        {
          "output_type": "stream",
          "text": [
            "EPOCH :127/250 | Train_acc: 0.8847 | Train_loss: 0.5057 | Val_loss: 2.1995 | Val_acc: 0.4782\n"
          ],
          "name": "stdout"
        },
        {
          "output_type": "stream",
          "text": [
            "\r 52%|█████▏    | 129/250 [4:19:46<4:03:10, 120.59s/it]"
          ],
          "name": "stderr"
        },
        {
          "output_type": "stream",
          "text": [
            "EPOCH :128/250 | Train_acc: 0.8882 | Train_loss: 0.4955 | Val_loss: 2.2067 | Val_acc: 0.4860\n"
          ],
          "name": "stdout"
        },
        {
          "output_type": "stream",
          "text": [
            "\r 52%|█████▏    | 130/250 [4:21:47<4:01:21, 120.68s/it]"
          ],
          "name": "stderr"
        },
        {
          "output_type": "stream",
          "text": [
            "EPOCH :129/250 | Train_acc: 0.8921 | Train_loss: 0.4866 | Val_loss: 2.2300 | Val_acc: 0.4761\n"
          ],
          "name": "stdout"
        },
        {
          "output_type": "stream",
          "text": [
            "\r 52%|█████▏    | 131/250 [4:23:47<3:59:19, 120.67s/it]"
          ],
          "name": "stderr"
        },
        {
          "output_type": "stream",
          "text": [
            "EPOCH :130/250 | Train_acc: 0.8990 | Train_loss: 0.4747 | Val_loss: 2.2507 | Val_acc: 0.4881\n"
          ],
          "name": "stdout"
        },
        {
          "output_type": "stream",
          "text": [
            "\r 53%|█████▎    | 132/250 [4:25:48<3:57:14, 120.63s/it]"
          ],
          "name": "stderr"
        },
        {
          "output_type": "stream",
          "text": [
            "EPOCH :131/250 | Train_acc: 0.8988 | Train_loss: 0.4679 | Val_loss: 2.2866 | Val_acc: 0.4770\n"
          ],
          "name": "stdout"
        },
        {
          "output_type": "stream",
          "text": [
            "\r 53%|█████▎    | 133/250 [4:27:49<3:55:18, 120.67s/it]"
          ],
          "name": "stderr"
        },
        {
          "output_type": "stream",
          "text": [
            "EPOCH :132/250 | Train_acc: 0.9017 | Train_loss: 0.4601 | Val_loss: 2.2588 | Val_acc: 0.4842\n"
          ],
          "name": "stdout"
        },
        {
          "output_type": "stream",
          "text": [
            "\r 54%|█████▎    | 134/250 [4:29:49<3:53:22, 120.71s/it]"
          ],
          "name": "stderr"
        },
        {
          "output_type": "stream",
          "text": [
            "EPOCH :133/250 | Train_acc: 0.9010 | Train_loss: 0.4517 | Val_loss: 2.2736 | Val_acc: 0.4772\n"
          ],
          "name": "stdout"
        },
        {
          "output_type": "stream",
          "text": [
            "\r 54%|█████▍    | 135/250 [4:31:50<3:51:35, 120.83s/it]"
          ],
          "name": "stderr"
        },
        {
          "output_type": "stream",
          "text": [
            "EPOCH :134/250 | Train_acc: 0.9088 | Train_loss: 0.4375 | Val_loss: 2.2738 | Val_acc: 0.4772\n"
          ],
          "name": "stdout"
        },
        {
          "output_type": "stream",
          "text": [
            "\r 54%|█████▍    | 136/250 [4:33:51<3:49:34, 120.83s/it]"
          ],
          "name": "stderr"
        },
        {
          "output_type": "stream",
          "text": [
            "EPOCH :135/250 | Train_acc: 0.9090 | Train_loss: 0.4312 | Val_loss: 2.3015 | Val_acc: 0.4673\n"
          ],
          "name": "stdout"
        },
        {
          "output_type": "stream",
          "text": [
            "\r 55%|█████▍    | 137/250 [4:35:52<3:47:30, 120.80s/it]"
          ],
          "name": "stderr"
        },
        {
          "output_type": "stream",
          "text": [
            "EPOCH :136/250 | Train_acc: 0.9137 | Train_loss: 0.4251 | Val_loss: 2.2860 | Val_acc: 0.4752\n"
          ],
          "name": "stdout"
        },
        {
          "output_type": "stream",
          "text": [
            "\r 55%|█████▌    | 138/250 [4:37:53<3:45:33, 120.83s/it]"
          ],
          "name": "stderr"
        },
        {
          "output_type": "stream",
          "text": [
            "EPOCH :137/250 | Train_acc: 0.9120 | Train_loss: 0.4177 | Val_loss: 2.3031 | Val_acc: 0.4743\n"
          ],
          "name": "stdout"
        },
        {
          "output_type": "stream",
          "text": [
            "\r 56%|█████▌    | 139/250 [4:39:53<3:43:22, 120.75s/it]"
          ],
          "name": "stderr"
        },
        {
          "output_type": "stream",
          "text": [
            "EPOCH :138/250 | Train_acc: 0.9192 | Train_loss: 0.4059 | Val_loss: 2.3249 | Val_acc: 0.4800\n"
          ],
          "name": "stdout"
        },
        {
          "output_type": "stream",
          "text": [
            "\r 56%|█████▌    | 140/250 [4:41:54<3:41:14, 120.68s/it]"
          ],
          "name": "stderr"
        },
        {
          "output_type": "stream",
          "text": [
            "EPOCH :139/250 | Train_acc: 0.9225 | Train_loss: 0.3975 | Val_loss: 2.3480 | Val_acc: 0.4654\n"
          ],
          "name": "stdout"
        },
        {
          "output_type": "stream",
          "text": [
            "\r 56%|█████▋    | 141/250 [4:43:55<3:39:14, 120.68s/it]"
          ],
          "name": "stderr"
        },
        {
          "output_type": "stream",
          "text": [
            "EPOCH :140/250 | Train_acc: 0.9235 | Train_loss: 0.3904 | Val_loss: 2.3331 | Val_acc: 0.4821\n"
          ],
          "name": "stdout"
        },
        {
          "output_type": "stream",
          "text": [
            "\r 57%|█████▋    | 142/250 [4:45:55<3:37:11, 120.66s/it]"
          ],
          "name": "stderr"
        },
        {
          "output_type": "stream",
          "text": [
            "EPOCH :141/250 | Train_acc: 0.9275 | Train_loss: 0.3806 | Val_loss: 2.3777 | Val_acc: 0.4642\n"
          ],
          "name": "stdout"
        },
        {
          "output_type": "stream",
          "text": [
            "\r 57%|█████▋    | 143/250 [4:47:56<3:35:12, 120.67s/it]"
          ],
          "name": "stderr"
        },
        {
          "output_type": "stream",
          "text": [
            "EPOCH :142/250 | Train_acc: 0.9268 | Train_loss: 0.3765 | Val_loss: 2.3374 | Val_acc: 0.4862\n"
          ],
          "name": "stdout"
        },
        {
          "output_type": "stream",
          "text": [
            "\r 58%|█████▊    | 144/250 [4:49:57<3:33:07, 120.64s/it]"
          ],
          "name": "stderr"
        },
        {
          "output_type": "stream",
          "text": [
            "EPOCH :143/250 | Train_acc: 0.9307 | Train_loss: 0.3686 | Val_loss: 2.3786 | Val_acc: 0.4772\n"
          ],
          "name": "stdout"
        },
        {
          "output_type": "stream",
          "text": [
            "\r 58%|█████▊    | 145/250 [4:51:57<3:30:59, 120.57s/it]"
          ],
          "name": "stderr"
        },
        {
          "output_type": "stream",
          "text": [
            "EPOCH :144/250 | Train_acc: 0.9320 | Train_loss: 0.3622 | Val_loss: 2.3894 | Val_acc: 0.4822\n"
          ],
          "name": "stdout"
        },
        {
          "output_type": "stream",
          "text": [
            "\r 58%|█████▊    | 146/250 [4:53:57<3:28:54, 120.53s/it]"
          ],
          "name": "stderr"
        },
        {
          "output_type": "stream",
          "text": [
            "EPOCH :145/250 | Train_acc: 0.9361 | Train_loss: 0.3556 | Val_loss: 2.3710 | Val_acc: 0.4722\n"
          ],
          "name": "stdout"
        },
        {
          "output_type": "stream",
          "text": [
            "\r 59%|█████▉    | 147/250 [4:55:58<3:27:03, 120.62s/it]"
          ],
          "name": "stderr"
        },
        {
          "output_type": "stream",
          "text": [
            "EPOCH :146/250 | Train_acc: 0.9371 | Train_loss: 0.3457 | Val_loss: 2.4021 | Val_acc: 0.4682\n"
          ],
          "name": "stdout"
        },
        {
          "output_type": "stream",
          "text": [
            "\r 59%|█████▉    | 148/250 [4:57:59<3:25:14, 120.74s/it]"
          ],
          "name": "stderr"
        },
        {
          "output_type": "stream",
          "text": [
            "EPOCH :147/250 | Train_acc: 0.9407 | Train_loss: 0.3379 | Val_loss: 2.3752 | Val_acc: 0.4711\n"
          ],
          "name": "stdout"
        },
        {
          "output_type": "stream",
          "text": [
            "\r 60%|█████▉    | 149/250 [5:00:00<3:23:11, 120.71s/it]"
          ],
          "name": "stderr"
        },
        {
          "output_type": "stream",
          "text": [
            "EPOCH :148/250 | Train_acc: 0.9421 | Train_loss: 0.3313 | Val_loss: 2.4078 | Val_acc: 0.4752\n"
          ],
          "name": "stdout"
        },
        {
          "output_type": "stream",
          "text": [
            "\r 60%|██████    | 150/250 [5:02:01<3:21:21, 120.82s/it]"
          ],
          "name": "stderr"
        },
        {
          "output_type": "stream",
          "text": [
            "EPOCH :149/250 | Train_acc: 0.9460 | Train_loss: 0.3203 | Val_loss: 2.4466 | Val_acc: 0.4742\n"
          ],
          "name": "stdout"
        },
        {
          "output_type": "stream",
          "text": [
            "\r 60%|██████    | 151/250 [5:04:02<3:19:16, 120.77s/it]"
          ],
          "name": "stderr"
        },
        {
          "output_type": "stream",
          "text": [
            "EPOCH :150/250 | Train_acc: 0.9471 | Train_loss: 0.3145 | Val_loss: 2.4582 | Val_acc: 0.4672\n"
          ],
          "name": "stdout"
        },
        {
          "output_type": "stream",
          "text": [
            "\r 61%|██████    | 152/250 [5:06:02<3:17:08, 120.70s/it]"
          ],
          "name": "stderr"
        },
        {
          "output_type": "stream",
          "text": [
            "EPOCH :151/250 | Train_acc: 0.9491 | Train_loss: 0.3114 | Val_loss: 2.4359 | Val_acc: 0.4732\n"
          ],
          "name": "stdout"
        },
        {
          "output_type": "stream",
          "text": [
            "\r 61%|██████    | 153/250 [5:08:03<3:15:06, 120.68s/it]"
          ],
          "name": "stderr"
        },
        {
          "output_type": "stream",
          "text": [
            "EPOCH :152/250 | Train_acc: 0.9524 | Train_loss: 0.3007 | Val_loss: 2.4691 | Val_acc: 0.4603\n"
          ],
          "name": "stdout"
        },
        {
          "output_type": "stream",
          "text": [
            "\r 62%|██████▏   | 154/250 [5:10:03<3:13:00, 120.63s/it]"
          ],
          "name": "stderr"
        },
        {
          "output_type": "stream",
          "text": [
            "EPOCH :153/250 | Train_acc: 0.9526 | Train_loss: 0.2968 | Val_loss: 2.4864 | Val_acc: 0.4603\n"
          ],
          "name": "stdout"
        },
        {
          "output_type": "stream",
          "text": [
            "\r 62%|██████▏   | 155/250 [5:12:04<3:10:56, 120.59s/it]"
          ],
          "name": "stderr"
        },
        {
          "output_type": "stream",
          "text": [
            "EPOCH :154/250 | Train_acc: 0.9538 | Train_loss: 0.2911 | Val_loss: 2.5102 | Val_acc: 0.4593\n"
          ],
          "name": "stdout"
        },
        {
          "output_type": "stream",
          "text": [
            "\r 62%|██████▏   | 156/250 [5:14:04<3:08:55, 120.59s/it]"
          ],
          "name": "stderr"
        },
        {
          "output_type": "stream",
          "text": [
            "EPOCH :155/250 | Train_acc: 0.9586 | Train_loss: 0.2825 | Val_loss: 2.4880 | Val_acc: 0.4722\n"
          ],
          "name": "stdout"
        },
        {
          "output_type": "stream",
          "text": [
            "\r 63%|██████▎   | 157/250 [5:16:05<3:06:56, 120.60s/it]"
          ],
          "name": "stderr"
        },
        {
          "output_type": "stream",
          "text": [
            "EPOCH :156/250 | Train_acc: 0.9571 | Train_loss: 0.2770 | Val_loss: 2.4887 | Val_acc: 0.4761\n"
          ],
          "name": "stdout"
        },
        {
          "output_type": "stream",
          "text": [
            "\r 63%|██████▎   | 158/250 [5:18:06<3:05:00, 120.66s/it]"
          ],
          "name": "stderr"
        },
        {
          "output_type": "stream",
          "text": [
            "EPOCH :157/250 | Train_acc: 0.9583 | Train_loss: 0.2696 | Val_loss: 2.5151 | Val_acc: 0.4763\n"
          ],
          "name": "stdout"
        },
        {
          "output_type": "stream",
          "text": [
            "\r 64%|██████▎   | 159/250 [5:20:07<3:03:10, 120.78s/it]"
          ],
          "name": "stderr"
        },
        {
          "output_type": "stream",
          "text": [
            "EPOCH :158/250 | Train_acc: 0.9617 | Train_loss: 0.2638 | Val_loss: 2.5353 | Val_acc: 0.4643\n"
          ],
          "name": "stdout"
        },
        {
          "output_type": "stream",
          "text": [
            "\r 64%|██████▍   | 160/250 [5:22:08<3:01:17, 120.86s/it]"
          ],
          "name": "stderr"
        },
        {
          "output_type": "stream",
          "text": [
            "EPOCH :159/250 | Train_acc: 0.9645 | Train_loss: 0.2568 | Val_loss: 2.5383 | Val_acc: 0.4753\n"
          ],
          "name": "stdout"
        },
        {
          "output_type": "stream",
          "text": [
            "\r 64%|██████▍   | 161/250 [5:24:08<2:59:06, 120.75s/it]"
          ],
          "name": "stderr"
        },
        {
          "output_type": "stream",
          "text": [
            "EPOCH :160/250 | Train_acc: 0.9637 | Train_loss: 0.2548 | Val_loss: 2.5746 | Val_acc: 0.4662\n"
          ],
          "name": "stdout"
        },
        {
          "output_type": "stream",
          "text": [
            "\r 65%|██████▍   | 162/250 [5:26:10<2:57:16, 120.87s/it]"
          ],
          "name": "stderr"
        },
        {
          "output_type": "stream",
          "text": [
            "EPOCH :161/250 | Train_acc: 0.9653 | Train_loss: 0.2477 | Val_loss: 2.5314 | Val_acc: 0.4802\n"
          ],
          "name": "stdout"
        },
        {
          "output_type": "stream",
          "text": [
            "\r 65%|██████▌   | 163/250 [5:28:11<2:55:19, 120.91s/it]"
          ],
          "name": "stderr"
        },
        {
          "output_type": "stream",
          "text": [
            "EPOCH :162/250 | Train_acc: 0.9673 | Train_loss: 0.2436 | Val_loss: 2.5427 | Val_acc: 0.4771\n"
          ],
          "name": "stdout"
        },
        {
          "output_type": "stream",
          "text": [
            "\r 66%|██████▌   | 164/250 [5:30:11<2:52:59, 120.70s/it]"
          ],
          "name": "stderr"
        },
        {
          "output_type": "stream",
          "text": [
            "EPOCH :163/250 | Train_acc: 0.9685 | Train_loss: 0.2369 | Val_loss: 2.5978 | Val_acc: 0.4662\n"
          ],
          "name": "stdout"
        },
        {
          "output_type": "stream",
          "text": [
            "\r 66%|██████▌   | 165/250 [5:32:11<2:50:55, 120.65s/it]"
          ],
          "name": "stderr"
        },
        {
          "output_type": "stream",
          "text": [
            "EPOCH :164/250 | Train_acc: 0.9707 | Train_loss: 0.2300 | Val_loss: 2.5808 | Val_acc: 0.4623\n"
          ],
          "name": "stdout"
        },
        {
          "output_type": "stream",
          "text": [
            "\r 66%|██████▋   | 166/250 [5:34:12<2:48:57, 120.68s/it]"
          ],
          "name": "stderr"
        },
        {
          "output_type": "stream",
          "text": [
            "EPOCH :165/250 | Train_acc: 0.9731 | Train_loss: 0.2248 | Val_loss: 2.5952 | Val_acc: 0.4583\n"
          ],
          "name": "stdout"
        },
        {
          "output_type": "stream",
          "text": [
            "\r 67%|██████▋   | 167/250 [5:36:13<2:46:54, 120.66s/it]"
          ],
          "name": "stderr"
        },
        {
          "output_type": "stream",
          "text": [
            "EPOCH :166/250 | Train_acc: 0.9723 | Train_loss: 0.2203 | Val_loss: 2.5866 | Val_acc: 0.4783\n"
          ],
          "name": "stdout"
        },
        {
          "output_type": "stream",
          "text": [
            "\r 67%|██████▋   | 168/250 [5:38:13<2:44:47, 120.57s/it]"
          ],
          "name": "stderr"
        },
        {
          "output_type": "stream",
          "text": [
            "EPOCH :167/250 | Train_acc: 0.9732 | Train_loss: 0.2149 | Val_loss: 2.6159 | Val_acc: 0.4664\n"
          ],
          "name": "stdout"
        },
        {
          "output_type": "stream",
          "text": [
            "\r 68%|██████▊   | 169/250 [5:40:14<2:42:47, 120.58s/it]"
          ],
          "name": "stderr"
        },
        {
          "output_type": "stream",
          "text": [
            "EPOCH :168/250 | Train_acc: 0.9745 | Train_loss: 0.2102 | Val_loss: 2.5915 | Val_acc: 0.4664\n"
          ],
          "name": "stdout"
        },
        {
          "output_type": "stream",
          "text": [
            "\r 68%|██████▊   | 170/250 [5:42:14<2:40:42, 120.54s/it]"
          ],
          "name": "stderr"
        },
        {
          "output_type": "stream",
          "text": [
            "EPOCH :169/250 | Train_acc: 0.9767 | Train_loss: 0.2036 | Val_loss: 2.6295 | Val_acc: 0.4642\n"
          ],
          "name": "stdout"
        },
        {
          "output_type": "stream",
          "text": [
            "\r 68%|██████▊   | 171/250 [5:44:15<2:38:45, 120.57s/it]"
          ],
          "name": "stderr"
        },
        {
          "output_type": "stream",
          "text": [
            "EPOCH :170/250 | Train_acc: 0.9760 | Train_loss: 0.2006 | Val_loss: 2.6555 | Val_acc: 0.4733\n"
          ],
          "name": "stdout"
        },
        {
          "output_type": "stream",
          "text": [
            "\r 69%|██████▉   | 172/250 [5:46:15<2:36:44, 120.57s/it]"
          ],
          "name": "stderr"
        },
        {
          "output_type": "stream",
          "text": [
            "EPOCH :171/250 | Train_acc: 0.9783 | Train_loss: 0.1946 | Val_loss: 2.6541 | Val_acc: 0.4703\n"
          ],
          "name": "stdout"
        },
        {
          "output_type": "stream",
          "text": [
            "\r 69%|██████▉   | 173/250 [5:48:16<2:34:48, 120.64s/it]"
          ],
          "name": "stderr"
        },
        {
          "output_type": "stream",
          "text": [
            "EPOCH :172/250 | Train_acc: 0.9777 | Train_loss: 0.1906 | Val_loss: 2.6773 | Val_acc: 0.4622\n"
          ],
          "name": "stdout"
        },
        {
          "output_type": "stream",
          "text": [
            "\r 70%|██████▉   | 174/250 [5:50:17<2:32:44, 120.58s/it]"
          ],
          "name": "stderr"
        },
        {
          "output_type": "stream",
          "text": [
            "EPOCH :173/250 | Train_acc: 0.9805 | Train_loss: 0.1853 | Val_loss: 2.7044 | Val_acc: 0.4732\n"
          ],
          "name": "stdout"
        },
        {
          "output_type": "stream",
          "text": [
            "\r 70%|███████   | 175/250 [5:52:17<2:30:39, 120.53s/it]"
          ],
          "name": "stderr"
        },
        {
          "output_type": "stream",
          "text": [
            "EPOCH :174/250 | Train_acc: 0.9819 | Train_loss: 0.1794 | Val_loss: 2.7285 | Val_acc: 0.4603\n"
          ],
          "name": "stdout"
        },
        {
          "output_type": "stream",
          "text": [
            "\r 70%|███████   | 176/250 [5:54:18<2:28:51, 120.70s/it]"
          ],
          "name": "stderr"
        },
        {
          "output_type": "stream",
          "text": [
            "EPOCH :175/250 | Train_acc: 0.9814 | Train_loss: 0.1777 | Val_loss: 2.7063 | Val_acc: 0.4693\n"
          ],
          "name": "stdout"
        },
        {
          "output_type": "stream",
          "text": [
            "\r 71%|███████   | 177/250 [5:56:19<2:27:02, 120.86s/it]"
          ],
          "name": "stderr"
        },
        {
          "output_type": "stream",
          "text": [
            "EPOCH :176/250 | Train_acc: 0.9830 | Train_loss: 0.1719 | Val_loss: 2.7180 | Val_acc: 0.4693\n"
          ],
          "name": "stdout"
        },
        {
          "output_type": "stream",
          "text": [
            "\r 71%|███████   | 178/250 [5:58:20<2:25:01, 120.85s/it]"
          ],
          "name": "stderr"
        },
        {
          "output_type": "stream",
          "text": [
            "EPOCH :177/250 | Train_acc: 0.9835 | Train_loss: 0.1675 | Val_loss: 2.7362 | Val_acc: 0.4683\n"
          ],
          "name": "stdout"
        },
        {
          "output_type": "stream",
          "text": [
            "\r 72%|███████▏  | 179/250 [6:00:21<2:23:04, 120.91s/it]"
          ],
          "name": "stderr"
        },
        {
          "output_type": "stream",
          "text": [
            "EPOCH :178/250 | Train_acc: 0.9851 | Train_loss: 0.1638 | Val_loss: 2.7381 | Val_acc: 0.4703\n"
          ],
          "name": "stdout"
        },
        {
          "output_type": "stream",
          "text": [
            "\r 72%|███████▏  | 180/250 [6:02:22<2:21:06, 120.96s/it]"
          ],
          "name": "stderr"
        },
        {
          "output_type": "stream",
          "text": [
            "EPOCH :179/250 | Train_acc: 0.9872 | Train_loss: 0.1581 | Val_loss: 2.7516 | Val_acc: 0.4604\n"
          ],
          "name": "stdout"
        },
        {
          "output_type": "stream",
          "text": [
            "\r 72%|███████▏  | 181/250 [6:04:23<2:18:59, 120.86s/it]"
          ],
          "name": "stderr"
        },
        {
          "output_type": "stream",
          "text": [
            "EPOCH :180/250 | Train_acc: 0.9863 | Train_loss: 0.1563 | Val_loss: 2.7696 | Val_acc: 0.4662\n"
          ],
          "name": "stdout"
        },
        {
          "output_type": "stream",
          "text": [
            "\r 73%|███████▎  | 182/250 [6:06:24<2:16:54, 120.81s/it]"
          ],
          "name": "stderr"
        },
        {
          "output_type": "stream",
          "text": [
            "EPOCH :181/250 | Train_acc: 0.9861 | Train_loss: 0.1540 | Val_loss: 2.7622 | Val_acc: 0.4714\n"
          ],
          "name": "stdout"
        },
        {
          "output_type": "stream",
          "text": [
            "\r 73%|███████▎  | 183/250 [6:08:24<2:14:51, 120.76s/it]"
          ],
          "name": "stderr"
        },
        {
          "output_type": "stream",
          "text": [
            "EPOCH :182/250 | Train_acc: 0.9884 | Train_loss: 0.1481 | Val_loss: 2.7689 | Val_acc: 0.4743\n"
          ],
          "name": "stdout"
        },
        {
          "output_type": "stream",
          "text": [
            "\r 74%|███████▎  | 184/250 [6:10:25<2:12:50, 120.76s/it]"
          ],
          "name": "stderr"
        },
        {
          "output_type": "stream",
          "text": [
            "EPOCH :183/250 | Train_acc: 0.9896 | Train_loss: 0.1447 | Val_loss: 2.8205 | Val_acc: 0.4575\n"
          ],
          "name": "stdout"
        },
        {
          "output_type": "stream",
          "text": [
            "\r 74%|███████▍  | 185/250 [6:12:26<2:10:49, 120.76s/it]"
          ],
          "name": "stderr"
        },
        {
          "output_type": "stream",
          "text": [
            "EPOCH :184/250 | Train_acc: 0.9893 | Train_loss: 0.1403 | Val_loss: 2.8081 | Val_acc: 0.4673\n"
          ],
          "name": "stdout"
        },
        {
          "output_type": "stream",
          "text": [
            "\r 74%|███████▍  | 186/250 [6:14:27<2:08:51, 120.80s/it]"
          ],
          "name": "stderr"
        },
        {
          "output_type": "stream",
          "text": [
            "EPOCH :185/250 | Train_acc: 0.9899 | Train_loss: 0.1394 | Val_loss: 2.8248 | Val_acc: 0.4732\n"
          ],
          "name": "stdout"
        },
        {
          "output_type": "stream",
          "text": [
            "\r 75%|███████▍  | 187/250 [6:16:27<2:06:47, 120.75s/it]"
          ],
          "name": "stderr"
        },
        {
          "output_type": "stream",
          "text": [
            "EPOCH :186/250 | Train_acc: 0.9907 | Train_loss: 0.1345 | Val_loss: 2.7943 | Val_acc: 0.4655\n"
          ],
          "name": "stdout"
        },
        {
          "output_type": "stream",
          "text": [
            "\r 75%|███████▌  | 188/250 [6:18:28<2:04:45, 120.73s/it]"
          ],
          "name": "stderr"
        },
        {
          "output_type": "stream",
          "text": [
            "EPOCH :187/250 | Train_acc: 0.9916 | Train_loss: 0.1295 | Val_loss: 2.8509 | Val_acc: 0.4694\n"
          ],
          "name": "stdout"
        },
        {
          "output_type": "stream",
          "text": [
            "\r 76%|███████▌  | 189/250 [6:20:29<2:02:47, 120.78s/it]"
          ],
          "name": "stderr"
        },
        {
          "output_type": "stream",
          "text": [
            "EPOCH :188/250 | Train_acc: 0.9931 | Train_loss: 0.1274 | Val_loss: 2.8575 | Val_acc: 0.4704\n"
          ],
          "name": "stdout"
        },
        {
          "output_type": "stream",
          "text": [
            "\r 76%|███████▌  | 190/250 [6:22:29<2:00:42, 120.70s/it]"
          ],
          "name": "stderr"
        },
        {
          "output_type": "stream",
          "text": [
            "EPOCH :189/250 | Train_acc: 0.9916 | Train_loss: 0.1247 | Val_loss: 2.8666 | Val_acc: 0.4684\n"
          ],
          "name": "stdout"
        },
        {
          "output_type": "stream",
          "text": [
            "\r 76%|███████▋  | 191/250 [6:24:30<1:58:38, 120.65s/it]"
          ],
          "name": "stderr"
        },
        {
          "output_type": "stream",
          "text": [
            "EPOCH :190/250 | Train_acc: 0.9933 | Train_loss: 0.1208 | Val_loss: 2.8948 | Val_acc: 0.4634\n"
          ],
          "name": "stdout"
        },
        {
          "output_type": "stream",
          "text": [
            "\r 77%|███████▋  | 192/250 [6:26:30<1:56:29, 120.51s/it]"
          ],
          "name": "stderr"
        },
        {
          "output_type": "stream",
          "text": [
            "EPOCH :191/250 | Train_acc: 0.9923 | Train_loss: 0.1175 | Val_loss: 2.9159 | Val_acc: 0.4673\n"
          ],
          "name": "stdout"
        },
        {
          "output_type": "stream",
          "text": [
            "\r 77%|███████▋  | 193/250 [6:28:31<1:54:34, 120.61s/it]"
          ],
          "name": "stderr"
        },
        {
          "output_type": "stream",
          "text": [
            "EPOCH :192/250 | Train_acc: 0.9943 | Train_loss: 0.1137 | Val_loss: 2.9132 | Val_acc: 0.4625\n"
          ],
          "name": "stdout"
        },
        {
          "output_type": "stream",
          "text": [
            "\r 78%|███████▊  | 194/250 [6:30:32<1:52:42, 120.77s/it]"
          ],
          "name": "stderr"
        },
        {
          "output_type": "stream",
          "text": [
            "EPOCH :193/250 | Train_acc: 0.9949 | Train_loss: 0.1108 | Val_loss: 2.9024 | Val_acc: 0.4655\n"
          ],
          "name": "stdout"
        },
        {
          "output_type": "stream",
          "text": [
            "\r 78%|███████▊  | 195/250 [6:32:33<1:50:40, 120.73s/it]"
          ],
          "name": "stderr"
        },
        {
          "output_type": "stream",
          "text": [
            "EPOCH :194/250 | Train_acc: 0.9944 | Train_loss: 0.1080 | Val_loss: 2.9330 | Val_acc: 0.4675\n"
          ],
          "name": "stdout"
        },
        {
          "output_type": "stream",
          "text": [
            "\r 78%|███████▊  | 196/250 [6:34:33<1:48:40, 120.74s/it]"
          ],
          "name": "stderr"
        },
        {
          "output_type": "stream",
          "text": [
            "EPOCH :195/250 | Train_acc: 0.9965 | Train_loss: 0.1055 | Val_loss: 2.9459 | Val_acc: 0.4684\n"
          ],
          "name": "stdout"
        },
        {
          "output_type": "stream",
          "text": [
            "\r 79%|███████▉  | 197/250 [6:36:34<1:46:38, 120.72s/it]"
          ],
          "name": "stderr"
        },
        {
          "output_type": "stream",
          "text": [
            "EPOCH :196/250 | Train_acc: 0.9955 | Train_loss: 0.1043 | Val_loss: 2.9521 | Val_acc: 0.4684\n"
          ],
          "name": "stdout"
        },
        {
          "output_type": "stream",
          "text": [
            "\r 79%|███████▉  | 198/250 [6:38:35<1:44:35, 120.68s/it]"
          ],
          "name": "stderr"
        },
        {
          "output_type": "stream",
          "text": [
            "EPOCH :197/250 | Train_acc: 0.9961 | Train_loss: 0.0987 | Val_loss: 2.9530 | Val_acc: 0.4675\n"
          ],
          "name": "stdout"
        },
        {
          "output_type": "stream",
          "text": [
            "\r 80%|███████▉  | 199/250 [6:40:35<1:42:34, 120.67s/it]"
          ],
          "name": "stderr"
        },
        {
          "output_type": "stream",
          "text": [
            "EPOCH :198/250 | Train_acc: 0.9967 | Train_loss: 0.0969 | Val_loss: 2.9640 | Val_acc: 0.4673\n"
          ],
          "name": "stdout"
        },
        {
          "output_type": "stream",
          "text": [
            "\r 80%|████████  | 200/250 [6:42:36<1:40:33, 120.66s/it]"
          ],
          "name": "stderr"
        },
        {
          "output_type": "stream",
          "text": [
            "EPOCH :199/250 | Train_acc: 0.9956 | Train_loss: 0.0947 | Val_loss: 3.0011 | Val_acc: 0.4665\n"
          ],
          "name": "stdout"
        },
        {
          "output_type": "stream",
          "text": [
            "\r 80%|████████  | 201/250 [6:44:36<1:38:29, 120.61s/it]"
          ],
          "name": "stderr"
        },
        {
          "output_type": "stream",
          "text": [
            "EPOCH :200/250 | Train_acc: 0.9965 | Train_loss: 0.0913 | Val_loss: 3.0012 | Val_acc: 0.4764\n"
          ],
          "name": "stdout"
        },
        {
          "output_type": "stream",
          "text": [
            "\r 81%|████████  | 202/250 [6:46:37<1:36:26, 120.54s/it]"
          ],
          "name": "stderr"
        },
        {
          "output_type": "stream",
          "text": [
            "EPOCH :201/250 | Train_acc: 0.9970 | Train_loss: 0.0896 | Val_loss: 3.0159 | Val_acc: 0.4744\n"
          ],
          "name": "stdout"
        },
        {
          "output_type": "stream",
          "text": [
            "\r 81%|████████  | 203/250 [6:48:37<1:34:25, 120.54s/it]"
          ],
          "name": "stderr"
        },
        {
          "output_type": "stream",
          "text": [
            "EPOCH :202/250 | Train_acc: 0.9973 | Train_loss: 0.0862 | Val_loss: 3.0412 | Val_acc: 0.4614\n"
          ],
          "name": "stdout"
        },
        {
          "output_type": "stream",
          "text": [
            "\r 82%|████████▏ | 204/250 [6:50:38<1:32:28, 120.61s/it]"
          ],
          "name": "stderr"
        },
        {
          "output_type": "stream",
          "text": [
            "EPOCH :203/250 | Train_acc: 0.9979 | Train_loss: 0.0843 | Val_loss: 3.0435 | Val_acc: 0.4694\n"
          ],
          "name": "stdout"
        },
        {
          "output_type": "stream",
          "text": [
            "\r 82%|████████▏ | 205/250 [6:52:39<1:30:27, 120.60s/it]"
          ],
          "name": "stderr"
        },
        {
          "output_type": "stream",
          "text": [
            "EPOCH :204/250 | Train_acc: 0.9979 | Train_loss: 0.0819 | Val_loss: 3.0312 | Val_acc: 0.4584\n"
          ],
          "name": "stdout"
        },
        {
          "output_type": "stream",
          "text": [
            "\r 82%|████████▏ | 206/250 [6:54:40<1:28:30, 120.70s/it]"
          ],
          "name": "stderr"
        },
        {
          "output_type": "stream",
          "text": [
            "EPOCH :205/250 | Train_acc: 0.9979 | Train_loss: 0.0806 | Val_loss: 3.0464 | Val_acc: 0.4765\n"
          ],
          "name": "stdout"
        },
        {
          "output_type": "stream",
          "text": [
            "\r 83%|████████▎ | 207/250 [6:56:41<1:26:32, 120.76s/it]"
          ],
          "name": "stderr"
        },
        {
          "output_type": "stream",
          "text": [
            "EPOCH :206/250 | Train_acc: 0.9986 | Train_loss: 0.0780 | Val_loss: 3.0497 | Val_acc: 0.4626\n"
          ],
          "name": "stdout"
        },
        {
          "output_type": "stream",
          "text": [
            "\r 83%|████████▎ | 208/250 [6:58:41<1:24:27, 120.67s/it]"
          ],
          "name": "stderr"
        },
        {
          "output_type": "stream",
          "text": [
            "EPOCH :207/250 | Train_acc: 0.9980 | Train_loss: 0.0772 | Val_loss: 3.0758 | Val_acc: 0.4725\n"
          ],
          "name": "stdout"
        },
        {
          "output_type": "stream",
          "text": [
            "\r 84%|████████▎ | 209/250 [7:00:42<1:22:26, 120.65s/it]"
          ],
          "name": "stderr"
        },
        {
          "output_type": "stream",
          "text": [
            "EPOCH :208/250 | Train_acc: 0.9988 | Train_loss: 0.0740 | Val_loss: 3.0820 | Val_acc: 0.4734\n"
          ],
          "name": "stdout"
        },
        {
          "output_type": "stream",
          "text": [
            "\r 84%|████████▍ | 210/250 [7:02:43<1:20:28, 120.72s/it]"
          ],
          "name": "stderr"
        },
        {
          "output_type": "stream",
          "text": [
            "EPOCH :209/250 | Train_acc: 0.9987 | Train_loss: 0.0721 | Val_loss: 3.1124 | Val_acc: 0.4725\n"
          ],
          "name": "stdout"
        },
        {
          "output_type": "stream",
          "text": [
            "\r 84%|████████▍ | 211/250 [7:04:43<1:18:30, 120.79s/it]"
          ],
          "name": "stderr"
        },
        {
          "output_type": "stream",
          "text": [
            "EPOCH :210/250 | Train_acc: 0.9985 | Train_loss: 0.0707 | Val_loss: 3.1235 | Val_acc: 0.4686\n"
          ],
          "name": "stdout"
        },
        {
          "output_type": "stream",
          "text": [
            "\r 85%|████████▍ | 212/250 [7:06:44<1:16:30, 120.81s/it]"
          ],
          "name": "stderr"
        },
        {
          "output_type": "stream",
          "text": [
            "EPOCH :211/250 | Train_acc: 0.9987 | Train_loss: 0.0692 | Val_loss: 3.1309 | Val_acc: 0.4694\n"
          ],
          "name": "stdout"
        },
        {
          "output_type": "stream",
          "text": [
            "\r 85%|████████▌ | 213/250 [7:08:45<1:14:29, 120.78s/it]"
          ],
          "name": "stderr"
        },
        {
          "output_type": "stream",
          "text": [
            "EPOCH :212/250 | Train_acc: 0.9992 | Train_loss: 0.0669 | Val_loss: 3.1597 | Val_acc: 0.4636\n"
          ],
          "name": "stdout"
        },
        {
          "output_type": "stream",
          "text": [
            "\r 86%|████████▌ | 214/250 [7:10:46<1:12:26, 120.75s/it]"
          ],
          "name": "stderr"
        },
        {
          "output_type": "stream",
          "text": [
            "EPOCH :213/250 | Train_acc: 0.9992 | Train_loss: 0.0654 | Val_loss: 3.1534 | Val_acc: 0.4645\n"
          ],
          "name": "stdout"
        },
        {
          "output_type": "stream",
          "text": [
            "\r 86%|████████▌ | 215/250 [7:12:46<1:10:23, 120.66s/it]"
          ],
          "name": "stderr"
        },
        {
          "output_type": "stream",
          "text": [
            "EPOCH :214/250 | Train_acc: 0.9991 | Train_loss: 0.0629 | Val_loss: 3.1789 | Val_acc: 0.4804\n"
          ],
          "name": "stdout"
        },
        {
          "output_type": "stream",
          "text": [
            "\r 86%|████████▋ | 216/250 [7:14:47<1:08:27, 120.79s/it]"
          ],
          "name": "stderr"
        },
        {
          "output_type": "stream",
          "text": [
            "EPOCH :215/250 | Train_acc: 0.9995 | Train_loss: 0.0622 | Val_loss: 3.1875 | Val_acc: 0.4676\n"
          ],
          "name": "stdout"
        },
        {
          "output_type": "stream",
          "text": [
            "\r 87%|████████▋ | 217/250 [7:16:48<1:06:27, 120.84s/it]"
          ],
          "name": "stderr"
        },
        {
          "output_type": "stream",
          "text": [
            "EPOCH :216/250 | Train_acc: 0.9992 | Train_loss: 0.0595 | Val_loss: 3.2084 | Val_acc: 0.4715\n"
          ],
          "name": "stdout"
        },
        {
          "output_type": "stream",
          "text": [
            "\r 87%|████████▋ | 218/250 [7:18:49<1:04:25, 120.81s/it]"
          ],
          "name": "stderr"
        },
        {
          "output_type": "stream",
          "text": [
            "EPOCH :217/250 | Train_acc: 0.9994 | Train_loss: 0.0583 | Val_loss: 3.2082 | Val_acc: 0.4794\n"
          ],
          "name": "stdout"
        },
        {
          "output_type": "stream",
          "text": [
            "\r 88%|████████▊ | 219/250 [7:20:50<1:02:24, 120.81s/it]"
          ],
          "name": "stderr"
        },
        {
          "output_type": "stream",
          "text": [
            "EPOCH :218/250 | Train_acc: 0.9995 | Train_loss: 0.0568 | Val_loss: 3.2052 | Val_acc: 0.4776\n"
          ],
          "name": "stdout"
        },
        {
          "output_type": "stream",
          "text": [
            "\r 88%|████████▊ | 220/250 [7:22:51<1:00:23, 120.80s/it]"
          ],
          "name": "stderr"
        },
        {
          "output_type": "stream",
          "text": [
            "EPOCH :219/250 | Train_acc: 0.9992 | Train_loss: 0.0549 | Val_loss: 3.2703 | Val_acc: 0.4566\n"
          ],
          "name": "stdout"
        },
        {
          "output_type": "stream",
          "text": [
            "\r 88%|████████▊ | 221/250 [7:24:51<58:18, 120.63s/it]  "
          ],
          "name": "stderr"
        },
        {
          "output_type": "stream",
          "text": [
            "EPOCH :220/250 | Train_acc: 0.9997 | Train_loss: 0.0529 | Val_loss: 3.2336 | Val_acc: 0.4645\n"
          ],
          "name": "stdout"
        },
        {
          "output_type": "stream",
          "text": [
            "\r 89%|████████▉ | 222/250 [7:26:51<56:13, 120.50s/it]"
          ],
          "name": "stderr"
        },
        {
          "output_type": "stream",
          "text": [
            "EPOCH :221/250 | Train_acc: 0.9997 | Train_loss: 0.0520 | Val_loss: 3.2771 | Val_acc: 0.4666\n"
          ],
          "name": "stdout"
        },
        {
          "output_type": "stream",
          "text": [
            "\r 89%|████████▉ | 223/250 [7:28:52<54:16, 120.63s/it]"
          ],
          "name": "stderr"
        },
        {
          "output_type": "stream",
          "text": [
            "EPOCH :222/250 | Train_acc: 0.9997 | Train_loss: 0.0507 | Val_loss: 3.2476 | Val_acc: 0.4705\n"
          ],
          "name": "stdout"
        },
        {
          "output_type": "stream",
          "text": [
            "\r 90%|████████▉ | 224/250 [7:30:52<52:15, 120.60s/it]"
          ],
          "name": "stderr"
        },
        {
          "output_type": "stream",
          "text": [
            "EPOCH :223/250 | Train_acc: 0.9995 | Train_loss: 0.0497 | Val_loss: 3.2855 | Val_acc: 0.4637\n"
          ],
          "name": "stdout"
        },
        {
          "output_type": "stream",
          "text": [
            "\r 90%|█████████ | 225/250 [7:32:53<50:14, 120.56s/it]"
          ],
          "name": "stderr"
        },
        {
          "output_type": "stream",
          "text": [
            "EPOCH :224/250 | Train_acc: 0.9997 | Train_loss: 0.0485 | Val_loss: 3.2942 | Val_acc: 0.4715\n"
          ],
          "name": "stdout"
        },
        {
          "output_type": "stream",
          "text": [
            "\r 90%|█████████ | 226/250 [7:34:54<48:14, 120.61s/it]"
          ],
          "name": "stderr"
        },
        {
          "output_type": "stream",
          "text": [
            "EPOCH :225/250 | Train_acc: 0.9997 | Train_loss: 0.0475 | Val_loss: 3.3107 | Val_acc: 0.4736\n"
          ],
          "name": "stdout"
        },
        {
          "output_type": "stream",
          "text": [
            "\r 91%|█████████ | 227/250 [7:36:54<46:14, 120.64s/it]"
          ],
          "name": "stderr"
        },
        {
          "output_type": "stream",
          "text": [
            "EPOCH :226/250 | Train_acc: 0.9998 | Train_loss: 0.0462 | Val_loss: 3.3306 | Val_acc: 0.4666\n"
          ],
          "name": "stdout"
        },
        {
          "output_type": "stream",
          "text": [
            "\r 91%|█████████ | 228/250 [7:38:55<44:11, 120.54s/it]"
          ],
          "name": "stderr"
        },
        {
          "output_type": "stream",
          "text": [
            "EPOCH :227/250 | Train_acc: 0.9998 | Train_loss: 0.0446 | Val_loss: 3.3332 | Val_acc: 0.4636\n"
          ],
          "name": "stdout"
        },
        {
          "output_type": "stream",
          "text": [
            "\r 92%|█████████▏| 229/250 [7:40:55<42:11, 120.55s/it]"
          ],
          "name": "stderr"
        },
        {
          "output_type": "stream",
          "text": [
            "EPOCH :228/250 | Train_acc: 1.0000 | Train_loss: 0.0437 | Val_loss: 3.3286 | Val_acc: 0.4657\n"
          ],
          "name": "stdout"
        },
        {
          "output_type": "stream",
          "text": [
            "\r 92%|█████████▏| 230/250 [7:42:56<40:12, 120.61s/it]"
          ],
          "name": "stderr"
        },
        {
          "output_type": "stream",
          "text": [
            "EPOCH :229/250 | Train_acc: 0.9998 | Train_loss: 0.0422 | Val_loss: 3.3476 | Val_acc: 0.4706\n"
          ],
          "name": "stdout"
        },
        {
          "output_type": "stream",
          "text": [
            "\r 92%|█████████▏| 231/250 [7:44:56<38:10, 120.55s/it]"
          ],
          "name": "stderr"
        },
        {
          "output_type": "stream",
          "text": [
            "EPOCH :230/250 | Train_acc: 0.9998 | Train_loss: 0.0409 | Val_loss: 3.3827 | Val_acc: 0.4616\n"
          ],
          "name": "stdout"
        },
        {
          "output_type": "stream",
          "text": [
            "\r 93%|█████████▎| 232/250 [7:46:57<36:11, 120.64s/it]"
          ],
          "name": "stderr"
        },
        {
          "output_type": "stream",
          "text": [
            "EPOCH :231/250 | Train_acc: 0.9998 | Train_loss: 0.0406 | Val_loss: 3.3856 | Val_acc: 0.4636\n"
          ],
          "name": "stdout"
        },
        {
          "output_type": "stream",
          "text": [
            "\r 93%|█████████▎| 233/250 [7:48:58<34:12, 120.71s/it]"
          ],
          "name": "stderr"
        },
        {
          "output_type": "stream",
          "text": [
            "EPOCH :232/250 | Train_acc: 0.9998 | Train_loss: 0.0395 | Val_loss: 3.3749 | Val_acc: 0.4726\n"
          ],
          "name": "stdout"
        },
        {
          "output_type": "stream",
          "text": [
            "\r 94%|█████████▎| 234/250 [7:50:59<32:10, 120.67s/it]"
          ],
          "name": "stderr"
        },
        {
          "output_type": "stream",
          "text": [
            "EPOCH :233/250 | Train_acc: 1.0000 | Train_loss: 0.0383 | Val_loss: 3.4022 | Val_acc: 0.4627\n"
          ],
          "name": "stdout"
        },
        {
          "output_type": "stream",
          "text": [
            "\r 94%|█████████▍| 235/250 [7:52:59<30:10, 120.70s/it]"
          ],
          "name": "stderr"
        },
        {
          "output_type": "stream",
          "text": [
            "EPOCH :234/250 | Train_acc: 1.0000 | Train_loss: 0.0374 | Val_loss: 3.4284 | Val_acc: 0.4755\n"
          ],
          "name": "stdout"
        },
        {
          "output_type": "stream",
          "text": [
            "\r 94%|█████████▍| 236/250 [7:55:00<28:10, 120.73s/it]"
          ],
          "name": "stderr"
        },
        {
          "output_type": "stream",
          "text": [
            "EPOCH :235/250 | Train_acc: 1.0000 | Train_loss: 0.0361 | Val_loss: 3.4218 | Val_acc: 0.4726\n"
          ],
          "name": "stdout"
        },
        {
          "output_type": "stream",
          "text": [
            "\r 95%|█████████▍| 237/250 [7:57:01<26:09, 120.76s/it]"
          ],
          "name": "stderr"
        },
        {
          "output_type": "stream",
          "text": [
            "EPOCH :236/250 | Train_acc: 1.0000 | Train_loss: 0.0354 | Val_loss: 3.4505 | Val_acc: 0.4706\n"
          ],
          "name": "stdout"
        },
        {
          "output_type": "stream",
          "text": [
            "\r 95%|█████████▌| 238/250 [7:59:02<24:09, 120.83s/it]"
          ],
          "name": "stderr"
        },
        {
          "output_type": "stream",
          "text": [
            "EPOCH :237/250 | Train_acc: 1.0000 | Train_loss: 0.0345 | Val_loss: 3.4479 | Val_acc: 0.4636\n"
          ],
          "name": "stdout"
        },
        {
          "output_type": "stream",
          "text": [
            "\r 96%|█████████▌| 239/250 [8:01:03<22:09, 120.85s/it]"
          ],
          "name": "stderr"
        },
        {
          "output_type": "stream",
          "text": [
            "EPOCH :238/250 | Train_acc: 1.0000 | Train_loss: 0.0339 | Val_loss: 3.4533 | Val_acc: 0.4657\n"
          ],
          "name": "stdout"
        },
        {
          "output_type": "stream",
          "text": [
            "\r 96%|█████████▌| 240/250 [8:03:04<20:08, 120.86s/it]"
          ],
          "name": "stderr"
        },
        {
          "output_type": "stream",
          "text": [
            "EPOCH :239/250 | Train_acc: 1.0000 | Train_loss: 0.0332 | Val_loss: 3.4840 | Val_acc: 0.4646\n"
          ],
          "name": "stdout"
        },
        {
          "output_type": "stream",
          "text": [
            "\r 96%|█████████▋| 241/250 [8:05:05<18:07, 120.87s/it]"
          ],
          "name": "stderr"
        },
        {
          "output_type": "stream",
          "text": [
            "EPOCH :240/250 | Train_acc: 1.0000 | Train_loss: 0.0324 | Val_loss: 3.4937 | Val_acc: 0.4716\n"
          ],
          "name": "stdout"
        },
        {
          "output_type": "stream",
          "text": [
            "\r 97%|█████████▋| 242/250 [8:07:05<16:06, 120.78s/it]"
          ],
          "name": "stderr"
        },
        {
          "output_type": "stream",
          "text": [
            "EPOCH :241/250 | Train_acc: 1.0000 | Train_loss: 0.0309 | Val_loss: 3.5051 | Val_acc: 0.4646\n"
          ],
          "name": "stdout"
        },
        {
          "output_type": "stream",
          "text": [
            "\r 97%|█████████▋| 243/250 [8:09:06<14:05, 120.71s/it]"
          ],
          "name": "stderr"
        },
        {
          "output_type": "stream",
          "text": [
            "EPOCH :242/250 | Train_acc: 1.0000 | Train_loss: 0.0303 | Val_loss: 3.5269 | Val_acc: 0.4736\n"
          ],
          "name": "stdout"
        },
        {
          "output_type": "stream",
          "text": [
            "\r 98%|█████████▊| 244/250 [8:11:06<12:03, 120.64s/it]"
          ],
          "name": "stderr"
        },
        {
          "output_type": "stream",
          "text": [
            "EPOCH :243/250 | Train_acc: 1.0000 | Train_loss: 0.0298 | Val_loss: 3.5198 | Val_acc: 0.4606\n"
          ],
          "name": "stdout"
        },
        {
          "output_type": "stream",
          "text": [
            "\r 98%|█████████▊| 245/250 [8:13:07<10:03, 120.63s/it]"
          ],
          "name": "stderr"
        },
        {
          "output_type": "stream",
          "text": [
            "EPOCH :244/250 | Train_acc: 1.0000 | Train_loss: 0.0292 | Val_loss: 3.5379 | Val_acc: 0.4676\n"
          ],
          "name": "stdout"
        },
        {
          "output_type": "stream",
          "text": [
            "\r 98%|█████████▊| 246/250 [8:15:07<08:02, 120.57s/it]"
          ],
          "name": "stderr"
        },
        {
          "output_type": "stream",
          "text": [
            "EPOCH :245/250 | Train_acc: 1.0000 | Train_loss: 0.0286 | Val_loss: 3.5322 | Val_acc: 0.4706\n"
          ],
          "name": "stdout"
        },
        {
          "output_type": "stream",
          "text": [
            "\r 99%|█████████▉| 247/250 [8:17:08<06:01, 120.56s/it]"
          ],
          "name": "stderr"
        },
        {
          "output_type": "stream",
          "text": [
            "EPOCH :246/250 | Train_acc: 1.0000 | Train_loss: 0.0278 | Val_loss: 3.5340 | Val_acc: 0.4677\n"
          ],
          "name": "stdout"
        },
        {
          "output_type": "stream",
          "text": [
            "\r 99%|█████████▉| 248/250 [8:19:09<04:01, 120.58s/it]"
          ],
          "name": "stderr"
        },
        {
          "output_type": "stream",
          "text": [
            "EPOCH :247/250 | Train_acc: 1.0000 | Train_loss: 0.0270 | Val_loss: 3.5959 | Val_acc: 0.4598\n"
          ],
          "name": "stdout"
        },
        {
          "output_type": "stream",
          "text": [
            "\r100%|█████████▉| 249/250 [8:21:09<02:00, 120.59s/it]"
          ],
          "name": "stderr"
        },
        {
          "output_type": "stream",
          "text": [
            "EPOCH :248/250 | Train_acc: 1.0000 | Train_loss: 0.0264 | Val_loss: 3.5818 | Val_acc: 0.4706\n"
          ],
          "name": "stdout"
        },
        {
          "output_type": "stream",
          "text": [
            "100%|██████████| 250/250 [8:23:10<00:00, 120.76s/it]"
          ],
          "name": "stderr"
        },
        {
          "output_type": "stream",
          "text": [
            "EPOCH :249/250 | Train_acc: 1.0000 | Train_loss: 0.0260 | Val_loss: 3.5928 | Val_acc: 0.4667\n"
          ],
          "name": "stdout"
        },
        {
          "output_type": "stream",
          "text": [
            "\n"
          ],
          "name": "stderr"
        }
      ]
    },
    {
      "cell_type": "code",
      "metadata": {
        "id": "r4wTxQhcteWl",
        "outputId": "9ba6ed1b-8cac-4b3a-d66e-740714614550",
        "colab": {
          "base_uri": "https://localhost:8080/"
        }
      },
      "source": [
        "!nvidia-smi"
      ],
      "execution_count": null,
      "outputs": [
        {
          "output_type": "stream",
          "text": [
            "Thu Oct  8 14:56:41 2020       \n",
            "+-----------------------------------------------------------------------------+\n",
            "| NVIDIA-SMI 455.23.05    Driver Version: 418.67       CUDA Version: 10.1     |\n",
            "|-------------------------------+----------------------+----------------------+\n",
            "| GPU  Name        Persistence-M| Bus-Id        Disp.A | Volatile Uncorr. ECC |\n",
            "| Fan  Temp  Perf  Pwr:Usage/Cap|         Memory-Usage | GPU-Util  Compute M. |\n",
            "|                               |                      |               MIG M. |\n",
            "|===============================+======================+======================|\n",
            "|   0  Tesla P100-PCIE...  Off  | 00000000:00:04.0 Off |                    0 |\n",
            "| N/A   40C    P0    34W / 250W |   2583MiB / 16280MiB |      0%      Default |\n",
            "|                               |                      |                 ERR! |\n",
            "+-------------------------------+----------------------+----------------------+\n",
            "                                                                               \n",
            "+-----------------------------------------------------------------------------+\n",
            "| Processes:                                                                  |\n",
            "|  GPU   GI   CI        PID   Type   Process name                  GPU Memory |\n",
            "|        ID   ID                                                   Usage      |\n",
            "|=============================================================================|\n",
            "|  No running processes found                                                 |\n",
            "+-----------------------------------------------------------------------------+\n"
          ],
          "name": "stdout"
        }
      ]
    },
    {
      "cell_type": "code",
      "metadata": {
        "id": "0d-sZuo-uPBw",
        "outputId": "3dd7dc31-64d9-41f4-a220-fc55c96fd8fa",
        "colab": {
          "base_uri": "https://localhost:8080/"
        }
      },
      "source": [
        "EPOCHS = 230\n",
        "train(model, train_loader, valid_loader)"
      ],
      "execution_count": null,
      "outputs": [
        {
          "output_type": "stream",
          "text": [
            "\n",
            "\n",
            "100%|██████████| 10/10 [00:00<00:00, 38728.57it/s]"
          ],
          "name": "stderr"
        },
        {
          "output_type": "stream",
          "text": [
            "hello\n",
            "hello\n",
            "hello\n",
            "hello\n",
            "hello\n",
            "hello\n",
            "hello\n",
            "hello\n",
            "hello\n",
            "hello\n"
          ],
          "name": "stdout"
        },
        {
          "output_type": "stream",
          "text": [
            "\n"
          ],
          "name": "stderr"
        }
      ]
    },
    {
      "cell_type": "code",
      "metadata": {
        "id": "aheX6vwFwX_t",
        "outputId": "e2367cee-a955-4f2d-d7c6-d7f2d9f8cc5c",
        "colab": {
          "base_uri": "https://localhost:8080/"
        }
      },
      "source": [
        "trainer = pl.Trainer(\n",
        "    checkpoint_callback=model_checkpoint,\n",
        "    early_stop_callback=early_stopping,\n",
        "    gpus=[0],\n",
        "    max_epochs=10,\n",
        "    precision=16,\n",
        "    deterministic=True,\n",
        "    logger=wandb_logger\n",
        ")"
      ],
      "execution_count": null,
      "outputs": [
        {
          "output_type": "stream",
          "text": [
            "GPU available: True, used: True\n",
            "TPU available: False, using: 0 TPU cores\n",
            "LOCAL_RANK: 0 - CUDA_VISIBLE_DEVICES: [0]\n",
            "Using native 16bit precision.\n"
          ],
          "name": "stderr"
        }
      ]
    },
    {
      "cell_type": "code",
      "metadata": {
        "id": "OUtFlEc8wX_y",
        "outputId": "28874ca9-afdf-46c7-929b-d839ab669654",
        "colab": {
          "base_uri": "https://localhost:8080/",
          "height": 1000,
          "referenced_widgets": [
            "d63450a6d5aa4a4aa62ecc004946a8de",
            "1c8e762f57514f34b088185e67dbee9d",
            "c85bac48d7d846c099b43f066fff7a4a",
            "2435aa5b4bac4d48a792833209d42d59",
            "487429adbfd54b17811e4dda03a88398",
            "23a4f6ab710c4a1aab1742f04ee72f56",
            "3bd39464b9fd43b8b2a217bca18b47ca",
            "6ff0b72d7c9d41acb40790f49c98298a",
            "b1690ceb2dae4e378a2adc744fc4b9e9",
            "6f61daae70114c0886c5f46e662129ed",
            "62992d08983546e5a6e65cddeab559d6",
            "0ee60e2a225a40b2bcc4ce70ca101b65",
            "b79b5425da8840269beb343365d418f2",
            "814acd423ed14537b26e36dae5cf5e6e",
            "514c81f7e1d84cabb3cd05a54f16e5e0",
            "26244fa1e6e64d10ab1e4a2437da7631",
            "cc94ab3004454ae3b3cb68cb2e6d27b9",
            "9e6e7ddd92934b5db1a850404a942a80",
            "028659d5d46b4ef083b6f6db3c9c9aa2",
            "4dc4e33ffc4d42a297f330c21dbb845a",
            "9103ad26155f4c7c8e8e7d9e8fa565f0",
            "086b6c10c8af427982edf8d3baa7f833",
            "1e7025049d794632b906736eb97e5a7b",
            "c5eda75f266a49dca2c7b8f9a8be4971",
            "d4c0b939f57f46daac92605381702360",
            "e25c1790cda641aa8110d5547276edd1",
            "7f52675a94b9482cbac73836e72f717d",
            "fda70327406f41ce8918c43cb0e17056",
            "efa9d0ed98f84d2e96a2f1eb5b9976a7",
            "89c076134ff84f108cdd3fbba578eab2",
            "950f2bb0df414e268a3b3bd28a064118",
            "45f010b2c9b44f5f811afb3f38cc040a",
            "c381a7d61d7a4813a3cb1313bef38dd4",
            "2753a636dc4a42f0a7ed1eb00f0a57ac",
            "f4a86527020744d5af473f7a2c939aea",
            "6aa83a406558465787503350e12ffd4d",
            "dfe500eb71be4557b49a659c6e5c16da",
            "a56410faa3a94c918ac02fce13ba1e64",
            "659a3246a4fe4bab977e0192244eacbd",
            "94fecb0fdfca4f8abafc4395c25d1910",
            "fdb1d68728dc49fab835d0504f0ef5d3",
            "8c58e0c9d4404defa761615ed9d4a1bd",
            "d59da7965e5340b08317bcdb20ef57fd",
            "f53571eb0b4d4be0aee4ea5f1d1bcd1b",
            "4745d811caa740bca4d1c33bc0454984",
            "a832edc8173b4824bb98663d088f8efb",
            "d8d444cae3ab4802908000402279bda5",
            "0427feb709f94daea5e0084b0ce27920"
          ]
        }
      },
      "source": [
        "trainer.fit(model)"
      ],
      "execution_count": null,
      "outputs": [
        {
          "output_type": "stream",
          "text": [
            "\u001b[34m\u001b[1mwandb\u001b[0m: \u001b[33mWARNING\u001b[0m Calling wandb.login() after wandb.init() has no effect.\n"
          ],
          "name": "stderr"
        },
        {
          "output_type": "display_data",
          "data": {
            "text/html": [
              "<br/>Waiting for W&B process to finish, PID 712<br/>Program ended successfully."
            ],
            "text/plain": [
              "<IPython.core.display.HTML object>"
            ]
          },
          "metadata": {
            "tags": []
          }
        },
        {
          "output_type": "display_data",
          "data": {
            "application/vnd.jupyter.widget-view+json": {
              "model_id": "d63450a6d5aa4a4aa62ecc004946a8de",
              "version_minor": 0,
              "version_major": 2
            },
            "text/plain": [
              "VBox(children=(Label(value=' 0.00MB of 0.00MB uploaded (0.00MB deduped)\\r'), FloatProgress(value=1.0, max=1.0)…"
            ]
          },
          "metadata": {
            "tags": []
          }
        },
        {
          "output_type": "display_data",
          "data": {
            "text/html": [
              "Find user logs for this run at: <code>./wandb/run-20201008_040849-2g3rzrww/logs/debug.log</code>"
            ],
            "text/plain": [
              "<IPython.core.display.HTML object>"
            ]
          },
          "metadata": {
            "tags": []
          }
        },
        {
          "output_type": "display_data",
          "data": {
            "text/html": [
              "Find internal logs for this run at: <code>./wandb/run-20201008_040849-2g3rzrww/logs/debug-internal.log</code>"
            ],
            "text/plain": [
              "<IPython.core.display.HTML object>"
            ]
          },
          "metadata": {
            "tags": []
          }
        },
        {
          "output_type": "display_data",
          "data": {
            "text/html": [
              "<h3>Run summary:</h3><br/><style>\n",
              "    table.wandb td:nth-child(1) { padding: 0 10px; text-align: right }\n",
              "    </style><table class=\"wandb\">\n",
              "<tr><td>global_step</td><td>49</td></tr><tr><td>loss</td><td>nan</td></tr><tr><td>accuracy</td><td>0.0</td></tr><tr><td>epoch</td><td>0</td></tr><tr><td>_step</td><td>0</td></tr><tr><td>_runtime</td><td>22</td></tr><tr><td>_timestamp</td><td>1602130151</td></tr></table>"
            ],
            "text/plain": [
              "<IPython.core.display.HTML object>"
            ]
          },
          "metadata": {
            "tags": []
          }
        },
        {
          "output_type": "display_data",
          "data": {
            "text/html": [
              "<h3>Run history:</h3><br/><style>\n",
              "    table.wandb td:nth-child(1) { padding: 0 10px; text-align: right }\n",
              "    </style><table class=\"wandb\">\n",
              "<tr><td>global_step</td><td>▁</td></tr><tr><td>loss</td><td></td></tr><tr><td>accuracy</td><td>▁</td></tr><tr><td>epoch</td><td>▁</td></tr><tr><td>_step</td><td>▁</td></tr><tr><td>_runtime</td><td>▁</td></tr><tr><td>_timestamp</td><td>▁</td></tr></table><br/>"
            ],
            "text/plain": [
              "<IPython.core.display.HTML object>"
            ]
          },
          "metadata": {
            "tags": []
          }
        },
        {
          "output_type": "display_data",
          "data": {
            "text/html": [
              "Synced 5 W&B file(s), 0 media file(s), 0 artifact file(s) and 0 other file(s)"
            ],
            "text/plain": [
              "<IPython.core.display.HTML object>"
            ]
          },
          "metadata": {
            "tags": []
          }
        },
        {
          "output_type": "display_data",
          "data": {
            "text/html": [
              "\n",
              "                    <br/>Synced <strong style=\"color:#cdcd00\">same-stride-1</strong>: <a href=\"https://wandb.ai/macab/vision-transformer/runs/2g3rzrww\" target=\"_blank\">https://wandb.ai/macab/vision-transformer/runs/2g3rzrww</a><br/>\n",
              "                "
            ],
            "text/plain": [
              "<IPython.core.display.HTML object>"
            ]
          },
          "metadata": {
            "tags": []
          }
        },
        {
          "output_type": "display_data",
          "data": {
            "text/html": [
              "\n",
              "                Tracking run with wandb version 0.10.5<br/>\n",
              "                Syncing run <strong style=\"color:#cdcd00\">vit-copied</strong> to <a href=\"https://wandb.ai\" target=\"_blank\">Weights & Biases</a> <a href=\"https://docs.wandb.com/integrations/jupyter.html\" target=\"_blank\">(Documentation)</a>.<br/>\n",
              "                Project page: <a href=\"https://wandb.ai/macab/vision-transformer\" target=\"_blank\">https://wandb.ai/macab/vision-transformer</a><br/>\n",
              "                Run page: <a href=\"https://wandb.ai/macab/vision-transformer/runs/j0j2i3e3\" target=\"_blank\">https://wandb.ai/macab/vision-transformer/runs/j0j2i3e3</a><br/>\n",
              "                Run data is saved locally in <code>./wandb/run-20201008_041228-j0j2i3e3</code><br/><br/>\n",
              "            "
            ],
            "text/plain": [
              "<IPython.core.display.HTML object>"
            ]
          },
          "metadata": {
            "tags": []
          }
        },
        {
          "output_type": "stream",
          "text": [
            "\n",
            "  | Name      | Type             | Params\n",
            "-----------------------------------------------\n",
            "0 | criterion | CrossEntropyLoss | 0     \n",
            "1 | accuracy  | Accuracy         | 0     \n",
            "2 | model     | ViT              | 55 M  \n"
          ],
          "name": "stderr"
        },
        {
          "output_type": "display_data",
          "data": {
            "application/vnd.jupyter.widget-view+json": {
              "model_id": "b1690ceb2dae4e378a2adc744fc4b9e9",
              "version_minor": 0,
              "version_major": 2
            },
            "text/plain": [
              "HBox(children=(FloatProgress(value=1.0, bar_style='info', description='Validation sanity check', layout=Layout…"
            ]
          },
          "metadata": {
            "tags": []
          }
        },
        {
          "output_type": "stream",
          "text": [
            "\r"
          ],
          "name": "stdout"
        },
        {
          "output_type": "display_data",
          "data": {
            "application/vnd.jupyter.widget-view+json": {
              "model_id": "cc94ab3004454ae3b3cb68cb2e6d27b9",
              "version_minor": 0,
              "version_major": 2
            },
            "text/plain": [
              "HBox(children=(FloatProgress(value=1.0, bar_style='info', description='Training', layout=Layout(flex='2'), max…"
            ]
          },
          "metadata": {
            "tags": []
          }
        },
        {
          "output_type": "stream",
          "text": [
            "/usr/local/lib/python3.6/dist-packages/pytorch_lightning/utilities/distributed.py:45: UserWarning: The {log:dict keyword} was deprecated in 0.9.1 and will be removed in 1.0.0\n",
            "Please use self.log(...) inside the lightningModule instead.\n",
            "\n",
            "# log on a step or aggregate epoch metric to the logger and/or progress bar\n",
            "# (inside LightningModule)\n",
            "self.log('train_loss', loss, on_step=True, on_epoch=True, prog_bar=True)\n",
            "  warnings.warn(*args, **kwargs)\n"
          ],
          "name": "stderr"
        },
        {
          "output_type": "display_data",
          "data": {
            "application/vnd.jupyter.widget-view+json": {
              "model_id": "d4c0b939f57f46daac92605381702360",
              "version_minor": 0,
              "version_major": 2
            },
            "text/plain": [
              "HBox(children=(FloatProgress(value=1.0, bar_style='info', description='Validating', layout=Layout(flex='2'), m…"
            ]
          },
          "metadata": {
            "tags": []
          }
        },
        {
          "output_type": "display_data",
          "data": {
            "application/vnd.jupyter.widget-view+json": {
              "model_id": "c381a7d61d7a4813a3cb1313bef38dd4",
              "version_minor": 0,
              "version_major": 2
            },
            "text/plain": [
              "HBox(children=(FloatProgress(value=1.0, bar_style='info', description='Validating', layout=Layout(flex='2'), m…"
            ]
          },
          "metadata": {
            "tags": []
          }
        },
        {
          "output_type": "display_data",
          "data": {
            "application/vnd.jupyter.widget-view+json": {
              "model_id": "fdb1d68728dc49fab835d0504f0ef5d3",
              "version_minor": 0,
              "version_major": 2
            },
            "text/plain": [
              "HBox(children=(FloatProgress(value=1.0, bar_style='info', description='Validating', layout=Layout(flex='2'), m…"
            ]
          },
          "metadata": {
            "tags": []
          }
        },
        {
          "output_type": "stream",
          "text": [
            "/usr/local/lib/python3.6/dist-packages/pytorch_lightning/utilities/distributed.py:45: UserWarning: Detected KeyboardInterrupt, attempting graceful shutdown...\n",
            "  warnings.warn(*args, **kwargs)\n"
          ],
          "name": "stderr"
        },
        {
          "output_type": "stream",
          "text": [
            "\n"
          ],
          "name": "stdout"
        },
        {
          "output_type": "execute_result",
          "data": {
            "text/plain": [
              "1"
            ]
          },
          "metadata": {
            "tags": []
          },
          "execution_count": 44
        }
      ]
    },
    {
      "cell_type": "code",
      "metadata": {
        "id": "m3YjKqlmwX_1"
      },
      "source": [
        ""
      ],
      "execution_count": null,
      "outputs": []
    },
    {
      "cell_type": "code",
      "metadata": {
        "id": "N1gey-XHwX_6"
      },
      "source": [
        ""
      ],
      "execution_count": null,
      "outputs": []
    },
    {
      "cell_type": "code",
      "metadata": {
        "id": "Zdbtv4N5wX_9"
      },
      "source": [
        ""
      ],
      "execution_count": null,
      "outputs": []
    },
    {
      "cell_type": "code",
      "metadata": {
        "id": "ABVMUp-bwYAA"
      },
      "source": [
        ""
      ],
      "execution_count": null,
      "outputs": []
    },
    {
      "cell_type": "code",
      "metadata": {
        "id": "GjUBzMJjwYAD"
      },
      "source": [
        ""
      ],
      "execution_count": null,
      "outputs": []
    },
    {
      "cell_type": "code",
      "metadata": {
        "id": "hSNPNr0uwYAG"
      },
      "source": [
        ""
      ],
      "execution_count": null,
      "outputs": []
    }
  ]
}